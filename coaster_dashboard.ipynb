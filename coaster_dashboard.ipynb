{
 "cells": [
  {
   "cell_type": "markdown",
   "id": "39b55a8f-8ca0-4fc5-8320-b36a92868a46",
   "metadata": {},
   "source": [
    "# Dashboard"
   ]
  },
  {
   "cell_type": "code",
   "execution_count": 1,
   "id": "1329b5a8-f382-46fd-822a-948a0899c85c",
   "metadata": {},
   "outputs": [
    {
     "data": {
      "text/html": [
       " <div class=\"tableauPlaceholder\" id=\"viz1760949238562\" style=\"position: relative\">\n",
       "      <noscript>\n",
       "        <a href=\"#\">\n",
       "          <img alt=\"coaster_dashboard\" src=\"https://public.tableau.com/static/images/co/coaster_dashboard/coaster_dashboard/1_rss.png\" style=\"border:none\"/>\n",
       "        </a>\n",
       "      </noscript>\n",
       "      <object class=\"tableauViz\" style=\"display:none;\">\n",
       "        <param name=\"host_url\" value=\"https://public.tableau.com/\" /> \n",
       "        <param name=\"embed_code_version\" value=\"3\" /> \n",
       "        <param name=\"site_root\" value=\"\" />\n",
       "        <param name=\"name\" value=\"coaster_dashboard/coaster_dashboard\" />\n",
       "        <param name=\"tabs\" value=\"no\" />\n",
       "        <param name=\"toolbar\" value=\"yes\" />\n",
       "        <param name=\"static_image\" value=\"https://public.tableau.com/static/images/co/coaster_dashboard/coaster_dashboard/1.png\" /> \n",
       "        <param name=\"animate_transition\" value=\"yes\" />\n",
       "        <param name=\"display_static_image\" value=\"yes\" />\n",
       "        <param name=\"display_spinner\" value=\"yes\" />\n",
       "        <param name=\"display_overlay\" value=\"yes\" />\n",
       "        <param name=\"display_count\" value=\"yes\" />\n",
       "        <param name=\"language\" value=\"en-US\" />\n",
       "        <param name=\"filter\" value=\"publish=yes\" />\n",
       "      </object>\n",
       "    </div>                \n",
       "\n",
       "    <script type=\"text/javascript\">                    \n",
       "      var divElement = document.getElementById('viz1760949238562');                    \n",
       "      var vizElement = divElement.getElementsByTagName('object')[0];                    \n",
       "      if ( divElement.offsetWidth > 800 ) { \n",
       "        vizElement.style.minWidth='420px';\n",
       "        vizElement.style.maxWidth='650px';\n",
       "        vizElement.style.width='100%';\n",
       "        vizElement.style.minHeight='587px';\n",
       "        vizElement.style.maxHeight='887px';\n",
       "        vizElement.style.height=(divElement.offsetWidth*0.75)+'px';\n",
       "      } else if ( divElement.offsetWidth > 500 ) { \n",
       "        vizElement.style.minWidth='420px';\n",
       "        vizElement.style.maxWidth='650px';\n",
       "        vizElement.style.width='100%';\n",
       "        vizElement.style.minHeight='587px';\n",
       "        vizElement.style.maxHeight='887px';\n",
       "        vizElement.style.height=(divElement.offsetWidth*0.75)+'px';\n",
       "      } else { \n",
       "        vizElement.style.width='100%';\n",
       "        vizElement.style.height='977px';\n",
       "      }                     \n",
       "      var scriptElement = document.createElement('script');                    \n",
       "      scriptElement.src = 'https://public.tableau.com/javascripts/api/viz_v1.js';                    \n",
       "      vizElement.parentNode.insertBefore(scriptElement, vizElement);                \n",
       "    </script>\n"
      ],
      "text/plain": [
       "<IPython.core.display.HTML object>"
      ]
     },
     "metadata": {},
     "output_type": "display_data"
    }
   ],
   "source": [
    "%%html\n",
    " <div class=\"tableauPlaceholder\" id=\"viz1760949238562\" style=\"position: relative\">\n",
    "      <noscript>\n",
    "        <a href=\"#\">\n",
    "          <img alt=\"coaster_dashboard\" src=\"https://public.tableau.com/static/images/co/coaster_dashboard/coaster_dashboard/1_rss.png\" style=\"border:none\"/>\n",
    "        </a>\n",
    "      </noscript>\n",
    "      <object class=\"tableauViz\" style=\"display:none;\">\n",
    "        <param name=\"host_url\" value=\"https://public.tableau.com/\" /> \n",
    "        <param name=\"embed_code_version\" value=\"3\" /> \n",
    "        <param name=\"site_root\" value=\"\" />\n",
    "        <param name=\"name\" value=\"coaster_dashboard/coaster_dashboard\" />\n",
    "        <param name=\"tabs\" value=\"no\" />\n",
    "        <param name=\"toolbar\" value=\"yes\" />\n",
    "        <param name=\"static_image\" value=\"https://public.tableau.com/static/images/co/coaster_dashboard/coaster_dashboard/1.png\" /> \n",
    "        <param name=\"animate_transition\" value=\"yes\" />\n",
    "        <param name=\"display_static_image\" value=\"yes\" />\n",
    "        <param name=\"display_spinner\" value=\"yes\" />\n",
    "        <param name=\"display_overlay\" value=\"yes\" />\n",
    "        <param name=\"display_count\" value=\"yes\" />\n",
    "        <param name=\"language\" value=\"en-US\" />\n",
    "        <param name=\"filter\" value=\"publish=yes\" />\n",
    "      </object>\n",
    "    </div>                \n",
    "\n",
    "    <script type=\"text/javascript\">                    \n",
    "      var divElement = document.getElementById('viz1760949238562');                    \n",
    "      var vizElement = divElement.getElementsByTagName('object')[0];                    \n",
    "      if ( divElement.offsetWidth > 800 ) { \n",
    "        vizElement.style.minWidth='420px';\n",
    "        vizElement.style.maxWidth='650px';\n",
    "        vizElement.style.width='100%';\n",
    "        vizElement.style.minHeight='587px';\n",
    "        vizElement.style.maxHeight='887px';\n",
    "        vizElement.style.height=(divElement.offsetWidth*0.75)+'px';\n",
    "      } else if ( divElement.offsetWidth > 500 ) { \n",
    "        vizElement.style.minWidth='420px';\n",
    "        vizElement.style.maxWidth='650px';\n",
    "        vizElement.style.width='100%';\n",
    "        vizElement.style.minHeight='587px';\n",
    "        vizElement.style.maxHeight='887px';\n",
    "        vizElement.style.height=(divElement.offsetWidth*0.75)+'px';\n",
    "      } else { \n",
    "        vizElement.style.width='100%';\n",
    "        vizElement.style.height='977px';\n",
    "      }                     \n",
    "      var scriptElement = document.createElement('script');                    \n",
    "      scriptElement.src = 'https://public.tableau.com/javascripts/api/viz_v1.js';                    \n",
    "      vizElement.parentNode.insertBefore(scriptElement, vizElement);                \n",
    "    </script>"
   ]
  }
 ],
 "metadata": {
  "kernelspec": {
   "display_name": "Python 3 (ipykernel)",
   "language": "python",
   "name": "python3"
  },
  "language_info": {
   "codemirror_mode": {
    "name": "ipython",
    "version": 3
   },
   "file_extension": ".py",
   "mimetype": "text/x-python",
   "name": "python",
   "nbconvert_exporter": "python",
   "pygments_lexer": "ipython3",
   "version": "3.9.7"
  }
 },
 "nbformat": 4,
 "nbformat_minor": 5
}
