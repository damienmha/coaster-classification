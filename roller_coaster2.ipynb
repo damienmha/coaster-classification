{
 "cells": [
  {
   "cell_type": "markdown",
   "id": "7086fdd2-2e61-4e59-a753-37a8d986b92e",
   "metadata": {},
   "source": [
    "# Roller Coaster: Second Dataset"
   ]
  },
  {
   "cell_type": "code",
   "execution_count": 1,
   "id": "d9a5db7b-b989-4a24-850f-8d9ba06a0417",
   "metadata": {},
   "outputs": [],
   "source": [
    "# All the necessary libraries for this project\n",
    "import numpy as np\n",
    "import pandas as pd\n",
    "import matplotlib\n",
    "import matplotlib.pyplot as plt\n",
    "import seaborn as sns\n",
    "import re\n",
    "import sklearn\n",
    "import itertools\n",
    "import statistics\n",
    "from sklearn.preprocessing import LabelEncoder, StandardScaler, OneHotEncoder\n",
    "from sklearn.compose import ColumnTransformer\n",
    "from sklearn.model_selection import train_test_split, GridSearchCV\n",
    "from sklearn import metrics\n",
    "from sklearn.linear_model import LogisticRegression\n",
    "from sklearn.neighbors import KNeighborsClassifier\n",
    "from sklearn.svm import SVC\n",
    "from sklearn.tree import DecisionTreeClassifier\n",
    "from sklearn.neural_network import MLPClassifier\n",
    "from sklearn.ensemble import RandomForestClassifier\n",
    "from sklearn.metrics import accuracy_score, confusion_matrix, f1_score, classification_report\n",
    "from sklearn.pipeline import Pipeline\n",
    "from xgboost import XGBClassifier"
   ]
  },
  {
   "cell_type": "code",
   "execution_count": 2,
   "id": "ba994389-7d89-41b2-acc8-00483c4cac2d",
   "metadata": {},
   "outputs": [],
   "source": [
    "# Helper function drawing a nicely formatted heatmap\n",
    "def heatmap(data, row_labels, col_labels, figsize = (20,12), cmap = \"YlGn\",\n",
    "            cbar_kw={}, cbarlabel=\"\", valfmt=\"{x:.2f}\",\n",
    "            textcolors=(\"black\", \"white\"), threshold=None):\n",
    "    \"\"\"\n",
    "    Create a heatmap from a numpy array and two lists of labels. \n",
    "\n",
    "    Parameters\n",
    "    ----------\n",
    "    data\n",
    "        A 2D numpy array of shape (M, N).\n",
    "    row_labels\n",
    "        A list or array of length M with the labels for the rows.\n",
    "    col_labels\n",
    "        A list or array of length N with the labels for the columns.\n",
    "    ax\n",
    "        A `matplotlib.axes.Axes` instance to which the heatmap is plotted.  If\n",
    "        not provided, use current axes or create a new one.  Optional.\n",
    "    cmap\n",
    "        A string that specifies the colormap to use. Look at matplotlib docs for information.\n",
    "        Optional.\n",
    "    cbar_kw\n",
    "        A dictionary with arguments to `matplotlib.Figure.colorbar`.  Optional.\n",
    "    cbarlabel\n",
    "        The label for the colorbar.  Optional.\n",
    "    valfmt\n",
    "        The format of the annotations inside the heatmap.  This should either\n",
    "        use the string format method, e.g. \"$ {x:.2f}\", or be a\n",
    "        `matplotlib.ticker.Formatter`.  Optional.\n",
    "    textcolors\n",
    "        A pair of colors.  The first is used for values below a threshold,\n",
    "        the second for those above.  Optional.\n",
    "    threshold\n",
    "        Value in data units according to which the colors from textcolors are\n",
    "        applied.  If None (the default) uses the middle of the colormap as\n",
    "    \"\"\"\n",
    "\n",
    "    plt.figure(figsize = figsize)\n",
    "    ax = plt.gca()\n",
    "\n",
    "    # Plot the heatmap\n",
    "    im = ax.imshow(data,cmap=cmap)\n",
    "\n",
    "    # Create colorbar\n",
    "    cbar = ax.figure.colorbar(im, ax=ax, **cbar_kw)\n",
    "    cbar.ax.set_ylabel(cbarlabel, rotation=-90, va=\"bottom\")\n",
    "\n",
    "    # Show all ticks and label them with the respective list entries.\n",
    "    ax.set_xticks(np.arange(data.shape[1]))\n",
    "    ax.set_xticklabels(col_labels)\n",
    "    \n",
    "    ax.set_yticks(np.arange(data.shape[0]))\n",
    "    ax.set_yticklabels(row_labels)\n",
    "\n",
    "    # Let the horizontal axes labeling appear on top.\n",
    "    ax.tick_params(top=True, bottom=False,\n",
    "                   labeltop=True, labelbottom=False)\n",
    "\n",
    "    # Rotate the tick labels and set their alignment.\n",
    "    plt.setp(ax.get_xticklabels(), rotation=-30, ha=\"right\",\n",
    "             rotation_mode=\"anchor\")\n",
    "\n",
    "    # Turn spines off and create white grid.\n",
    "    ax.spines[:].set_visible(False)\n",
    "\n",
    "    ax.set_xticks(np.arange(data.shape[1]+1)-.5, minor=True)\n",
    "    ax.set_yticks(np.arange(data.shape[0]+1)-.5, minor=True)\n",
    "    ax.grid(which=\"minor\", color=\"w\", linestyle='-', linewidth=3)\n",
    "    ax.tick_params(which=\"minor\", bottom=False, left=False)\n",
    "\n",
    "    \n",
    "    # Normalize the threshold to the images color range.\n",
    "    if threshold is not None:\n",
    "        threshold = im.norm(threshold)\n",
    "    else:\n",
    "        threshold = im.norm(data.max())/2.\n",
    "\n",
    "    # Set default alignment to center, but allow it to be\n",
    "    # overwritten by textkw.\n",
    "    kw = dict(horizontalalignment=\"center\",\n",
    "              verticalalignment=\"center\")\n",
    "\n",
    "    # Get the formatter in case a string is supplied\n",
    "    if isinstance(valfmt, str):\n",
    "        valfmt = matplotlib.ticker.StrMethodFormatter(valfmt)\n",
    "\n",
    "    # Loop over the data and create a `Text` for each \"pixel\".\n",
    "    # Change the text's color depending on the data.\n",
    "    texts = []\n",
    "    for i in range(data.shape[0]):\n",
    "        for j in range(data.shape[1]):\n",
    "            kw.update(color=textcolors[int(im.norm(data[i, j]) > threshold)])\n",
    "            text = im.axes.text(j, i, valfmt(data[i, j], None), **kw)\n",
    "            texts.append(text)"
   ]
  },
  {
   "cell_type": "code",
   "execution_count": 3,
   "id": "4f022dee-76ac-4fbd-a7d5-ca2c9870fca6",
   "metadata": {},
   "outputs": [],
   "source": [
    "# Helper function that allows you to draw nicely formatted confusion matrices\n",
    "def draw_confusion_matrix(y, yhat, classes):\n",
    "    '''\n",
    "        Draws a confusion matrix for the given target and predictions\n",
    "        Adapted from scikit-learn and discussion example.\n",
    "    '''\n",
    "    plt.cla()\n",
    "    plt.clf()\n",
    "    matrix = confusion_matrix(y, yhat)\n",
    "    plt.imshow(matrix, interpolation='nearest', cmap=plt.cm.YlOrBr)\n",
    "    plt.title(\"Confusion Matrix\")\n",
    "    plt.colorbar()\n",
    "    num_classes = len(classes)\n",
    "    plt.xticks(np.arange(num_classes), classes, rotation=90)\n",
    "    plt.yticks(np.arange(num_classes), classes)\n",
    "    \n",
    "    fmt = 'd'\n",
    "    thresh = matrix.max() / 2.\n",
    "    for i, j in itertools.product(range(matrix.shape[0]), range(matrix.shape[1])):\n",
    "        plt.text(j, i, format(matrix[i, j], fmt),\n",
    "                 horizontalalignment=\"center\",\n",
    "                 color=\"white\" if matrix[i, j] > thresh else \"black\")\n",
    "\n",
    "    plt.ylabel('True label')\n",
    "    plt.xlabel('Predicted label')\n",
    "    plt.tight_layout()\n",
    "    plt.show()"
   ]
  },
  {
   "cell_type": "code",
   "execution_count": 4,
   "id": "1094f224-7a2e-4b89-ab0e-75316bc18e21",
   "metadata": {},
   "outputs": [
    {
     "data": {
      "text/html": [
       "<div>\n",
       "<style scoped>\n",
       "    .dataframe tbody tr th:only-of-type {\n",
       "        vertical-align: middle;\n",
       "    }\n",
       "\n",
       "    .dataframe tbody tr th {\n",
       "        vertical-align: top;\n",
       "    }\n",
       "\n",
       "    .dataframe thead th {\n",
       "        text-align: right;\n",
       "    }\n",
       "</style>\n",
       "<table border=\"1\" class=\"dataframe\">\n",
       "  <thead>\n",
       "    <tr style=\"text-align: right;\">\n",
       "      <th></th>\n",
       "      <th>coaster_name</th>\n",
       "      <th>Length</th>\n",
       "      <th>Speed</th>\n",
       "      <th>Location</th>\n",
       "      <th>Status</th>\n",
       "      <th>Opening date</th>\n",
       "      <th>Type</th>\n",
       "      <th>Manufacturer</th>\n",
       "      <th>Height restriction</th>\n",
       "      <th>Model</th>\n",
       "      <th>...</th>\n",
       "      <th>speed1</th>\n",
       "      <th>speed2</th>\n",
       "      <th>speed1_value</th>\n",
       "      <th>speed1_unit</th>\n",
       "      <th>speed_mph</th>\n",
       "      <th>height_value</th>\n",
       "      <th>height_unit</th>\n",
       "      <th>height_ft</th>\n",
       "      <th>Inversions_clean</th>\n",
       "      <th>Gforce_clean</th>\n",
       "    </tr>\n",
       "  </thead>\n",
       "  <tbody>\n",
       "    <tr>\n",
       "      <th>0</th>\n",
       "      <td>Switchback Railway</td>\n",
       "      <td>600 ft (180 m)</td>\n",
       "      <td>6 mph (9.7 km/h)</td>\n",
       "      <td>Coney Island</td>\n",
       "      <td>Removed</td>\n",
       "      <td>June 16, 1884</td>\n",
       "      <td>Wood</td>\n",
       "      <td>LaMarcus Adna Thompson</td>\n",
       "      <td>NaN</td>\n",
       "      <td>Lift Packed</td>\n",
       "      <td>...</td>\n",
       "      <td>6 mph</td>\n",
       "      <td>9.7 km/h</td>\n",
       "      <td>6.0</td>\n",
       "      <td>mph</td>\n",
       "      <td>6.0</td>\n",
       "      <td>50.0</td>\n",
       "      <td>ft</td>\n",
       "      <td>NaN</td>\n",
       "      <td>0</td>\n",
       "      <td>2.9</td>\n",
       "    </tr>\n",
       "    <tr>\n",
       "      <th>1</th>\n",
       "      <td>Flip Flap Railway</td>\n",
       "      <td>NaN</td>\n",
       "      <td>NaN</td>\n",
       "      <td>Sea Lion Park</td>\n",
       "      <td>Removed</td>\n",
       "      <td>1895</td>\n",
       "      <td>Wood</td>\n",
       "      <td>Lina Beecher</td>\n",
       "      <td>NaN</td>\n",
       "      <td>NaN</td>\n",
       "      <td>...</td>\n",
       "      <td>NaN</td>\n",
       "      <td>NaN</td>\n",
       "      <td>NaN</td>\n",
       "      <td>NaN</td>\n",
       "      <td>NaN</td>\n",
       "      <td>NaN</td>\n",
       "      <td>NaN</td>\n",
       "      <td>NaN</td>\n",
       "      <td>1</td>\n",
       "      <td>12.0</td>\n",
       "    </tr>\n",
       "    <tr>\n",
       "      <th>2</th>\n",
       "      <td>Switchback Railway (Euclid Beach Park)</td>\n",
       "      <td>NaN</td>\n",
       "      <td>NaN</td>\n",
       "      <td>Cleveland, Ohio, United States</td>\n",
       "      <td>Closed</td>\n",
       "      <td>NaN</td>\n",
       "      <td>Other</td>\n",
       "      <td>NaN</td>\n",
       "      <td>NaN</td>\n",
       "      <td>NaN</td>\n",
       "      <td>...</td>\n",
       "      <td>NaN</td>\n",
       "      <td>NaN</td>\n",
       "      <td>NaN</td>\n",
       "      <td>NaN</td>\n",
       "      <td>NaN</td>\n",
       "      <td>NaN</td>\n",
       "      <td>NaN</td>\n",
       "      <td>NaN</td>\n",
       "      <td>0</td>\n",
       "      <td>NaN</td>\n",
       "    </tr>\n",
       "    <tr>\n",
       "      <th>3</th>\n",
       "      <td>Loop the Loop (Coney Island)</td>\n",
       "      <td>NaN</td>\n",
       "      <td>NaN</td>\n",
       "      <td>Other</td>\n",
       "      <td>Removed</td>\n",
       "      <td>1901</td>\n",
       "      <td>Steel</td>\n",
       "      <td>Edwin Prescott</td>\n",
       "      <td>NaN</td>\n",
       "      <td>NaN</td>\n",
       "      <td>...</td>\n",
       "      <td>NaN</td>\n",
       "      <td>NaN</td>\n",
       "      <td>NaN</td>\n",
       "      <td>NaN</td>\n",
       "      <td>NaN</td>\n",
       "      <td>NaN</td>\n",
       "      <td>NaN</td>\n",
       "      <td>NaN</td>\n",
       "      <td>1</td>\n",
       "      <td>NaN</td>\n",
       "    </tr>\n",
       "    <tr>\n",
       "      <th>4</th>\n",
       "      <td>Loop the Loop (Young's Pier)</td>\n",
       "      <td>NaN</td>\n",
       "      <td>NaN</td>\n",
       "      <td>Other</td>\n",
       "      <td>Removed</td>\n",
       "      <td>1901</td>\n",
       "      <td>Steel</td>\n",
       "      <td>Edwin Prescott</td>\n",
       "      <td>NaN</td>\n",
       "      <td>NaN</td>\n",
       "      <td>...</td>\n",
       "      <td>NaN</td>\n",
       "      <td>NaN</td>\n",
       "      <td>NaN</td>\n",
       "      <td>NaN</td>\n",
       "      <td>NaN</td>\n",
       "      <td>NaN</td>\n",
       "      <td>NaN</td>\n",
       "      <td>NaN</td>\n",
       "      <td>1</td>\n",
       "      <td>NaN</td>\n",
       "    </tr>\n",
       "  </tbody>\n",
       "</table>\n",
       "<p>5 rows × 56 columns</p>\n",
       "</div>"
      ],
      "text/plain": [
       "                             coaster_name          Length             Speed  \\\n",
       "0                      Switchback Railway  600 ft (180 m)  6 mph (9.7 km/h)   \n",
       "1                       Flip Flap Railway             NaN               NaN   \n",
       "2  Switchback Railway (Euclid Beach Park)             NaN               NaN   \n",
       "3            Loop the Loop (Coney Island)             NaN               NaN   \n",
       "4            Loop the Loop (Young's Pier)             NaN               NaN   \n",
       "\n",
       "                         Location   Status   Opening date   Type  \\\n",
       "0                    Coney Island  Removed  June 16, 1884   Wood   \n",
       "1                   Sea Lion Park  Removed           1895   Wood   \n",
       "2  Cleveland, Ohio, United States   Closed            NaN  Other   \n",
       "3                           Other  Removed           1901  Steel   \n",
       "4                           Other  Removed           1901  Steel   \n",
       "\n",
       "             Manufacturer Height restriction        Model  ...  speed1  \\\n",
       "0  LaMarcus Adna Thompson                NaN  Lift Packed  ...  6 mph    \n",
       "1            Lina Beecher                NaN          NaN  ...     NaN   \n",
       "2                     NaN                NaN          NaN  ...     NaN   \n",
       "3          Edwin Prescott                NaN          NaN  ...     NaN   \n",
       "4          Edwin Prescott                NaN          NaN  ...     NaN   \n",
       "\n",
       "     speed2 speed1_value speed1_unit speed_mph height_value height_unit  \\\n",
       "0  9.7 km/h          6.0         mph       6.0         50.0          ft   \n",
       "1       NaN          NaN         NaN       NaN          NaN         NaN   \n",
       "2       NaN          NaN         NaN       NaN          NaN         NaN   \n",
       "3       NaN          NaN         NaN       NaN          NaN         NaN   \n",
       "4       NaN          NaN         NaN       NaN          NaN         NaN   \n",
       "\n",
       "  height_ft Inversions_clean Gforce_clean  \n",
       "0       NaN                0          2.9  \n",
       "1       NaN                1         12.0  \n",
       "2       NaN                0          NaN  \n",
       "3       NaN                1          NaN  \n",
       "4       NaN                1          NaN  \n",
       "\n",
       "[5 rows x 56 columns]"
      ]
     },
     "execution_count": 4,
     "metadata": {},
     "output_type": "execute_result"
    }
   ],
   "source": [
    "df = pd.read_csv('coaster_db.csv')\n",
    "df.head()"
   ]
  },
  {
   "cell_type": "code",
   "execution_count": 5,
   "id": "4e5146a4-1b58-4a9a-a491-681dcd1c4d71",
   "metadata": {},
   "outputs": [
    {
     "data": {
      "text/html": [
       "<div>\n",
       "<style scoped>\n",
       "    .dataframe tbody tr th:only-of-type {\n",
       "        vertical-align: middle;\n",
       "    }\n",
       "\n",
       "    .dataframe tbody tr th {\n",
       "        vertical-align: top;\n",
       "    }\n",
       "\n",
       "    .dataframe thead th {\n",
       "        text-align: right;\n",
       "    }\n",
       "</style>\n",
       "<table border=\"1\" class=\"dataframe\">\n",
       "  <thead>\n",
       "    <tr style=\"text-align: right;\">\n",
       "      <th></th>\n",
       "      <th>Inversions</th>\n",
       "      <th>year_introduced</th>\n",
       "      <th>latitude</th>\n",
       "      <th>longitude</th>\n",
       "      <th>speed1_value</th>\n",
       "      <th>speed_mph</th>\n",
       "      <th>height_value</th>\n",
       "      <th>height_ft</th>\n",
       "      <th>Inversions_clean</th>\n",
       "      <th>Gforce_clean</th>\n",
       "    </tr>\n",
       "  </thead>\n",
       "  <tbody>\n",
       "    <tr>\n",
       "      <th>count</th>\n",
       "      <td>932.000000</td>\n",
       "      <td>1087.000000</td>\n",
       "      <td>812.000000</td>\n",
       "      <td>812.000000</td>\n",
       "      <td>937.000000</td>\n",
       "      <td>937.000000</td>\n",
       "      <td>965.000000</td>\n",
       "      <td>171.000000</td>\n",
       "      <td>1087.000000</td>\n",
       "      <td>362.000000</td>\n",
       "    </tr>\n",
       "    <tr>\n",
       "      <th>mean</th>\n",
       "      <td>1.547210</td>\n",
       "      <td>1994.986201</td>\n",
       "      <td>38.373484</td>\n",
       "      <td>-41.595373</td>\n",
       "      <td>53.850374</td>\n",
       "      <td>48.617289</td>\n",
       "      <td>89.575171</td>\n",
       "      <td>101.996491</td>\n",
       "      <td>1.326587</td>\n",
       "      <td>3.824006</td>\n",
       "    </tr>\n",
       "    <tr>\n",
       "      <th>std</th>\n",
       "      <td>2.114073</td>\n",
       "      <td>23.475248</td>\n",
       "      <td>15.516596</td>\n",
       "      <td>72.285227</td>\n",
       "      <td>23.385518</td>\n",
       "      <td>16.678031</td>\n",
       "      <td>136.246444</td>\n",
       "      <td>67.329092</td>\n",
       "      <td>2.030854</td>\n",
       "      <td>0.989998</td>\n",
       "    </tr>\n",
       "    <tr>\n",
       "      <th>min</th>\n",
       "      <td>0.000000</td>\n",
       "      <td>1884.000000</td>\n",
       "      <td>-48.261700</td>\n",
       "      <td>-123.035700</td>\n",
       "      <td>5.000000</td>\n",
       "      <td>5.000000</td>\n",
       "      <td>4.000000</td>\n",
       "      <td>13.100000</td>\n",
       "      <td>0.000000</td>\n",
       "      <td>0.800000</td>\n",
       "    </tr>\n",
       "    <tr>\n",
       "      <th>25%</th>\n",
       "      <td>0.000000</td>\n",
       "      <td>1989.000000</td>\n",
       "      <td>35.031050</td>\n",
       "      <td>-84.552200</td>\n",
       "      <td>40.000000</td>\n",
       "      <td>37.300000</td>\n",
       "      <td>44.000000</td>\n",
       "      <td>51.800000</td>\n",
       "      <td>0.000000</td>\n",
       "      <td>3.400000</td>\n",
       "    </tr>\n",
       "    <tr>\n",
       "      <th>50%</th>\n",
       "      <td>0.000000</td>\n",
       "      <td>2000.000000</td>\n",
       "      <td>40.289800</td>\n",
       "      <td>-76.653600</td>\n",
       "      <td>50.000000</td>\n",
       "      <td>49.700000</td>\n",
       "      <td>79.000000</td>\n",
       "      <td>91.200000</td>\n",
       "      <td>0.000000</td>\n",
       "      <td>4.000000</td>\n",
       "    </tr>\n",
       "    <tr>\n",
       "      <th>75%</th>\n",
       "      <td>3.000000</td>\n",
       "      <td>2010.000000</td>\n",
       "      <td>44.799600</td>\n",
       "      <td>2.778100</td>\n",
       "      <td>63.000000</td>\n",
       "      <td>58.000000</td>\n",
       "      <td>113.000000</td>\n",
       "      <td>131.200000</td>\n",
       "      <td>2.000000</td>\n",
       "      <td>4.500000</td>\n",
       "    </tr>\n",
       "    <tr>\n",
       "      <th>max</th>\n",
       "      <td>14.000000</td>\n",
       "      <td>2022.000000</td>\n",
       "      <td>63.230900</td>\n",
       "      <td>153.426500</td>\n",
       "      <td>240.000000</td>\n",
       "      <td>149.100000</td>\n",
       "      <td>3937.000000</td>\n",
       "      <td>377.300000</td>\n",
       "      <td>14.000000</td>\n",
       "      <td>12.000000</td>\n",
       "    </tr>\n",
       "  </tbody>\n",
       "</table>\n",
       "</div>"
      ],
      "text/plain": [
       "       Inversions  year_introduced    latitude   longitude  speed1_value  \\\n",
       "count  932.000000      1087.000000  812.000000  812.000000    937.000000   \n",
       "mean     1.547210      1994.986201   38.373484  -41.595373     53.850374   \n",
       "std      2.114073        23.475248   15.516596   72.285227     23.385518   \n",
       "min      0.000000      1884.000000  -48.261700 -123.035700      5.000000   \n",
       "25%      0.000000      1989.000000   35.031050  -84.552200     40.000000   \n",
       "50%      0.000000      2000.000000   40.289800  -76.653600     50.000000   \n",
       "75%      3.000000      2010.000000   44.799600    2.778100     63.000000   \n",
       "max     14.000000      2022.000000   63.230900  153.426500    240.000000   \n",
       "\n",
       "        speed_mph  height_value   height_ft  Inversions_clean  Gforce_clean  \n",
       "count  937.000000    965.000000  171.000000       1087.000000    362.000000  \n",
       "mean    48.617289     89.575171  101.996491          1.326587      3.824006  \n",
       "std     16.678031    136.246444   67.329092          2.030854      0.989998  \n",
       "min      5.000000      4.000000   13.100000          0.000000      0.800000  \n",
       "25%     37.300000     44.000000   51.800000          0.000000      3.400000  \n",
       "50%     49.700000     79.000000   91.200000          0.000000      4.000000  \n",
       "75%     58.000000    113.000000  131.200000          2.000000      4.500000  \n",
       "max    149.100000   3937.000000  377.300000         14.000000     12.000000  "
      ]
     },
     "execution_count": 5,
     "metadata": {},
     "output_type": "execute_result"
    }
   ],
   "source": [
    "# Take note of the variables, these are the quantitative variables\n",
    "df.describe()"
   ]
  },
  {
   "cell_type": "code",
   "execution_count": 6,
   "id": "8392c1c5-d901-45e3-b16b-057e71d8afc6",
   "metadata": {},
   "outputs": [
    {
     "name": "stdout",
     "output_type": "stream",
     "text": [
      "<class 'pandas.core.frame.DataFrame'>\n",
      "RangeIndex: 1087 entries, 0 to 1086\n",
      "Data columns (total 56 columns):\n",
      " #   Column                         Non-Null Count  Dtype  \n",
      "---  ------                         --------------  -----  \n",
      " 0   coaster_name                   1087 non-null   object \n",
      " 1   Length                         953 non-null    object \n",
      " 2   Speed                          937 non-null    object \n",
      " 3   Location                       1087 non-null   object \n",
      " 4   Status                         874 non-null    object \n",
      " 5   Opening date                   837 non-null    object \n",
      " 6   Type                           1087 non-null   object \n",
      " 7   Manufacturer                   1028 non-null   object \n",
      " 8   Height restriction             831 non-null    object \n",
      " 9   Model                          744 non-null    object \n",
      " 10  Height                         965 non-null    object \n",
      " 11  Inversions                     932 non-null    float64\n",
      " 12  Lift/launch system             795 non-null    object \n",
      " 13  Cost                           382 non-null    object \n",
      " 14  Trains                         718 non-null    object \n",
      " 15  Park section                   487 non-null    object \n",
      " 16  Duration                       765 non-null    object \n",
      " 17  Capacity                       575 non-null    object \n",
      " 18  G-force                        362 non-null    object \n",
      " 19  Designer                       578 non-null    object \n",
      " 20  Max vertical angle             357 non-null    object \n",
      " 21  Drop                           494 non-null    object \n",
      " 22  Soft opening date              96 non-null     object \n",
      " 23  Fast Lane available            69 non-null     object \n",
      " 24  Replaced                       173 non-null    object \n",
      " 25  Track layout                   335 non-null    object \n",
      " 26  Fastrack available             19 non-null     object \n",
      " 27  Soft opening date.1            96 non-null     object \n",
      " 28  Closing date                   236 non-null    object \n",
      " 29  Opened                         27 non-null     object \n",
      " 30  Replaced by                    88 non-null     object \n",
      " 31  Website                        87 non-null     object \n",
      " 32  Flash Pass Available           50 non-null     object \n",
      " 33  Must transfer from wheelchair  106 non-null    object \n",
      " 34  Theme                          44 non-null     object \n",
      " 35  Single rider line available    81 non-null     object \n",
      " 36  Restraint Style                22 non-null     object \n",
      " 37  Flash Pass available           46 non-null     object \n",
      " 38  Acceleration                   60 non-null     object \n",
      " 39  Restraints                     24 non-null     object \n",
      " 40  Name                           35 non-null     object \n",
      " 41  year_introduced                1087 non-null   int64  \n",
      " 42  latitude                       812 non-null    float64\n",
      " 43  longitude                      812 non-null    float64\n",
      " 44  Type_Main                      1087 non-null   object \n",
      " 45  opening_date_clean             837 non-null    object \n",
      " 46  speed1                         937 non-null    object \n",
      " 47  speed2                         935 non-null    object \n",
      " 48  speed1_value                   937 non-null    float64\n",
      " 49  speed1_unit                    937 non-null    object \n",
      " 50  speed_mph                      937 non-null    float64\n",
      " 51  height_value                   965 non-null    float64\n",
      " 52  height_unit                    965 non-null    object \n",
      " 53  height_ft                      171 non-null    float64\n",
      " 54  Inversions_clean               1087 non-null   int64  \n",
      " 55  Gforce_clean                   362 non-null    float64\n",
      "dtypes: float64(8), int64(2), object(46)\n",
      "memory usage: 475.7+ KB\n"
     ]
    }
   ],
   "source": [
    "# Take note of the 'object' dtypes. These will have to be dropped, converted to numeric, or encoded\n",
    "df.info()"
   ]
  },
  {
   "cell_type": "markdown",
   "id": "06d78829-d668-4c57-9b06-051f5f44624b",
   "metadata": {},
   "source": [
    "**Some of these columns we will want to drop and some we will want to modify/clean up so as to use them properly.** \n",
    "\n",
    "    -For example, with speed, we can just use 'speed_mph' and drop the other types of speed and units. They're not telling us different useful info but the same speed in different units. For these we will select what's already in the cleanest format which is 'speed_mph' and we will treat other columns with similar issues the same\n",
    "    \n",
    "    -Some columns like 'Flash Pass available' simply don't seem useful for our purposes and we can just get rid of them\n",
    "\n",
    "    -For columns like 'Length' we are given only one column with both the number and unit. We just want the number and not the unit, so we can clean up the formatting to just give us the numeric value we want, as we can do with similarly formatted columns"
   ]
  },
  {
   "cell_type": "code",
   "execution_count": 7,
   "id": "26f5f016-1a72-48e5-b37e-2844f80688cb",
   "metadata": {},
   "outputs": [
    {
     "data": {
      "text/html": [
       "<div>\n",
       "<style scoped>\n",
       "    .dataframe tbody tr th:only-of-type {\n",
       "        vertical-align: middle;\n",
       "    }\n",
       "\n",
       "    .dataframe tbody tr th {\n",
       "        vertical-align: top;\n",
       "    }\n",
       "\n",
       "    .dataframe thead th {\n",
       "        text-align: right;\n",
       "    }\n",
       "</style>\n",
       "<table border=\"1\" class=\"dataframe\">\n",
       "  <thead>\n",
       "    <tr style=\"text-align: right;\">\n",
       "      <th></th>\n",
       "      <th>coaster_name</th>\n",
       "      <th>Length</th>\n",
       "      <th>Location</th>\n",
       "      <th>Status</th>\n",
       "      <th>Manufacturer</th>\n",
       "      <th>Height restriction</th>\n",
       "      <th>Model</th>\n",
       "      <th>Lift/launch system</th>\n",
       "      <th>Cost</th>\n",
       "      <th>Trains</th>\n",
       "      <th>...</th>\n",
       "      <th>Restraints</th>\n",
       "      <th>year_introduced</th>\n",
       "      <th>latitude</th>\n",
       "      <th>longitude</th>\n",
       "      <th>Type_Main</th>\n",
       "      <th>opening_date_clean</th>\n",
       "      <th>speed_mph</th>\n",
       "      <th>height_ft</th>\n",
       "      <th>Inversions_clean</th>\n",
       "      <th>Gforce_clean</th>\n",
       "    </tr>\n",
       "  </thead>\n",
       "  <tbody>\n",
       "    <tr>\n",
       "      <th>0</th>\n",
       "      <td>Switchback Railway</td>\n",
       "      <td>600 ft (180 m)</td>\n",
       "      <td>Coney Island</td>\n",
       "      <td>Removed</td>\n",
       "      <td>LaMarcus Adna Thompson</td>\n",
       "      <td>NaN</td>\n",
       "      <td>Lift Packed</td>\n",
       "      <td>gravity</td>\n",
       "      <td>NaN</td>\n",
       "      <td>NaN</td>\n",
       "      <td>...</td>\n",
       "      <td>NaN</td>\n",
       "      <td>1884</td>\n",
       "      <td>40.5740</td>\n",
       "      <td>-73.9780</td>\n",
       "      <td>Wood</td>\n",
       "      <td>1884-06-16</td>\n",
       "      <td>6.0</td>\n",
       "      <td>NaN</td>\n",
       "      <td>0</td>\n",
       "      <td>2.9</td>\n",
       "    </tr>\n",
       "    <tr>\n",
       "      <th>1</th>\n",
       "      <td>Flip Flap Railway</td>\n",
       "      <td>NaN</td>\n",
       "      <td>Sea Lion Park</td>\n",
       "      <td>Removed</td>\n",
       "      <td>Lina Beecher</td>\n",
       "      <td>NaN</td>\n",
       "      <td>NaN</td>\n",
       "      <td>NaN</td>\n",
       "      <td>NaN</td>\n",
       "      <td>a single car. Riders are arranged 1 across in ...</td>\n",
       "      <td>...</td>\n",
       "      <td>NaN</td>\n",
       "      <td>1895</td>\n",
       "      <td>40.5780</td>\n",
       "      <td>-73.9790</td>\n",
       "      <td>Wood</td>\n",
       "      <td>1895-01-01</td>\n",
       "      <td>NaN</td>\n",
       "      <td>NaN</td>\n",
       "      <td>1</td>\n",
       "      <td>12.0</td>\n",
       "    </tr>\n",
       "    <tr>\n",
       "      <th>2</th>\n",
       "      <td>Switchback Railway (Euclid Beach Park)</td>\n",
       "      <td>NaN</td>\n",
       "      <td>Cleveland, Ohio, United States</td>\n",
       "      <td>Closed</td>\n",
       "      <td>NaN</td>\n",
       "      <td>NaN</td>\n",
       "      <td>NaN</td>\n",
       "      <td>NaN</td>\n",
       "      <td>NaN</td>\n",
       "      <td>NaN</td>\n",
       "      <td>...</td>\n",
       "      <td>NaN</td>\n",
       "      <td>1896</td>\n",
       "      <td>41.5800</td>\n",
       "      <td>-81.5700</td>\n",
       "      <td>Other</td>\n",
       "      <td>NaN</td>\n",
       "      <td>NaN</td>\n",
       "      <td>NaN</td>\n",
       "      <td>0</td>\n",
       "      <td>NaN</td>\n",
       "    </tr>\n",
       "    <tr>\n",
       "      <th>3</th>\n",
       "      <td>Loop the Loop (Coney Island)</td>\n",
       "      <td>NaN</td>\n",
       "      <td>Other</td>\n",
       "      <td>Removed</td>\n",
       "      <td>Edwin Prescott</td>\n",
       "      <td>NaN</td>\n",
       "      <td>NaN</td>\n",
       "      <td>NaN</td>\n",
       "      <td>NaN</td>\n",
       "      <td>a single car. Riders are arranged 2 across in ...</td>\n",
       "      <td>...</td>\n",
       "      <td>NaN</td>\n",
       "      <td>1901</td>\n",
       "      <td>40.5745</td>\n",
       "      <td>-73.9780</td>\n",
       "      <td>Steel</td>\n",
       "      <td>1901-01-01</td>\n",
       "      <td>NaN</td>\n",
       "      <td>NaN</td>\n",
       "      <td>1</td>\n",
       "      <td>NaN</td>\n",
       "    </tr>\n",
       "    <tr>\n",
       "      <th>4</th>\n",
       "      <td>Loop the Loop (Young's Pier)</td>\n",
       "      <td>NaN</td>\n",
       "      <td>Other</td>\n",
       "      <td>Removed</td>\n",
       "      <td>Edwin Prescott</td>\n",
       "      <td>NaN</td>\n",
       "      <td>NaN</td>\n",
       "      <td>NaN</td>\n",
       "      <td>NaN</td>\n",
       "      <td>NaN</td>\n",
       "      <td>...</td>\n",
       "      <td>NaN</td>\n",
       "      <td>1901</td>\n",
       "      <td>39.3538</td>\n",
       "      <td>-74.4342</td>\n",
       "      <td>Steel</td>\n",
       "      <td>1901-01-01</td>\n",
       "      <td>NaN</td>\n",
       "      <td>NaN</td>\n",
       "      <td>1</td>\n",
       "      <td>NaN</td>\n",
       "    </tr>\n",
       "  </tbody>\n",
       "</table>\n",
       "<p>5 rows × 28 columns</p>\n",
       "</div>"
      ],
      "text/plain": [
       "                             coaster_name          Length  \\\n",
       "0                      Switchback Railway  600 ft (180 m)   \n",
       "1                       Flip Flap Railway             NaN   \n",
       "2  Switchback Railway (Euclid Beach Park)             NaN   \n",
       "3            Loop the Loop (Coney Island)             NaN   \n",
       "4            Loop the Loop (Young's Pier)             NaN   \n",
       "\n",
       "                         Location   Status            Manufacturer  \\\n",
       "0                    Coney Island  Removed  LaMarcus Adna Thompson   \n",
       "1                   Sea Lion Park  Removed            Lina Beecher   \n",
       "2  Cleveland, Ohio, United States   Closed                     NaN   \n",
       "3                           Other  Removed          Edwin Prescott   \n",
       "4                           Other  Removed          Edwin Prescott   \n",
       "\n",
       "  Height restriction        Model Lift/launch system Cost  \\\n",
       "0                NaN  Lift Packed            gravity  NaN   \n",
       "1                NaN          NaN                NaN  NaN   \n",
       "2                NaN          NaN                NaN  NaN   \n",
       "3                NaN          NaN                NaN  NaN   \n",
       "4                NaN          NaN                NaN  NaN   \n",
       "\n",
       "                                              Trains  ... Restraints  \\\n",
       "0                                                NaN  ...        NaN   \n",
       "1  a single car. Riders are arranged 1 across in ...  ...        NaN   \n",
       "2                                                NaN  ...        NaN   \n",
       "3  a single car. Riders are arranged 2 across in ...  ...        NaN   \n",
       "4                                                NaN  ...        NaN   \n",
       "\n",
       "  year_introduced latitude longitude Type_Main opening_date_clean speed_mph  \\\n",
       "0            1884  40.5740  -73.9780      Wood         1884-06-16       6.0   \n",
       "1            1895  40.5780  -73.9790      Wood         1895-01-01       NaN   \n",
       "2            1896  41.5800  -81.5700     Other                NaN       NaN   \n",
       "3            1901  40.5745  -73.9780     Steel         1901-01-01       NaN   \n",
       "4            1901  39.3538  -74.4342     Steel         1901-01-01       NaN   \n",
       "\n",
       "  height_ft Inversions_clean  Gforce_clean  \n",
       "0       NaN                0           2.9  \n",
       "1       NaN                1          12.0  \n",
       "2       NaN                0           NaN  \n",
       "3       NaN                1           NaN  \n",
       "4       NaN                1           NaN  \n",
       "\n",
       "[5 rows x 28 columns]"
      ]
     },
     "execution_count": 7,
     "metadata": {},
     "output_type": "execute_result"
    }
   ],
   "source": [
    "columns_to_drop = ['Speed', 'Theme', 'Type', 'Height', 'Inversions', 'Opening date', 'Park section', 'Soft opening date', 'Fast Lane available', 'Replaced',\n",
    "                    'Fastrack available', 'Soft opening date.1','Closing date', 'Opened', 'Replaced by', 'Website',\n",
    "                    'Flash Pass available', 'Flash Pass Available', 'Must transfer from wheelchair', 'Single rider line available', \n",
    "                     'Flash Pass available', 'speed1', 'speed2', 'speed1_value', 'speed1_unit', 'height_value', \n",
    "                    'height_unit', 'Name', 'G-force']\n",
    "df.drop(columns=columns_to_drop, inplace=True)\n",
    "df.head()"
   ]
  },
  {
   "cell_type": "code",
   "execution_count": 8,
   "id": "7f4a7e11-b744-45fd-b83d-3cc77e8089d6",
   "metadata": {},
   "outputs": [
    {
     "name": "stdout",
     "output_type": "stream",
     "text": [
      "<class 'pandas.core.frame.DataFrame'>\n",
      "RangeIndex: 1087 entries, 0 to 1086\n",
      "Data columns (total 28 columns):\n",
      " #   Column              Non-Null Count  Dtype  \n",
      "---  ------              --------------  -----  \n",
      " 0   coaster_name        1087 non-null   object \n",
      " 1   Length              953 non-null    object \n",
      " 2   Location            1087 non-null   object \n",
      " 3   Status              874 non-null    object \n",
      " 4   Manufacturer        1028 non-null   object \n",
      " 5   Height restriction  831 non-null    object \n",
      " 6   Model               744 non-null    object \n",
      " 7   Lift/launch system  795 non-null    object \n",
      " 8   Cost                382 non-null    object \n",
      " 9   Trains              718 non-null    object \n",
      " 10  Duration            765 non-null    object \n",
      " 11  Capacity            575 non-null    object \n",
      " 12  Designer            578 non-null    object \n",
      " 13  Max vertical angle  357 non-null    object \n",
      " 14  Drop                494 non-null    object \n",
      " 15  Track layout        335 non-null    object \n",
      " 16  Restraint Style     22 non-null     object \n",
      " 17  Acceleration        60 non-null     object \n",
      " 18  Restraints          24 non-null     object \n",
      " 19  year_introduced     1087 non-null   int64  \n",
      " 20  latitude            812 non-null    float64\n",
      " 21  longitude           812 non-null    float64\n",
      " 22  Type_Main           1087 non-null   object \n",
      " 23  opening_date_clean  837 non-null    object \n",
      " 24  speed_mph           937 non-null    float64\n",
      " 25  height_ft           171 non-null    float64\n",
      " 26  Inversions_clean    1087 non-null   int64  \n",
      " 27  Gforce_clean        362 non-null    float64\n",
      "dtypes: float64(5), int64(2), object(21)\n",
      "memory usage: 237.9+ KB\n"
     ]
    }
   ],
   "source": [
    "df.info()"
   ]
  },
  {
   "cell_type": "code",
   "execution_count": 9,
   "id": "5fd2be1c-dfda-44c0-83a3-e9f424ca0e37",
   "metadata": {},
   "outputs": [
    {
     "data": {
      "text/plain": [
       "array([nan, '46\\xa0in (117\\xa0cm)', '100\\xa0cm (3\\xa0ft 3\\xa0in)',\n",
       "       '48\\xa0in (122\\xa0cm)', '42\\xa0in (107\\xa0cm)',\n",
       "       '50\\xa0in (127\\xa0cm)', '52\\xa0in (132\\xa0cm)',\n",
       "       '54\\xa0in (137\\xa0cm)', '140\\xa0cm (4\\xa0ft 7\\xa0in)',\n",
       "       '36\\xa0in (91\\xa0cm)', '40\\xa0in (102\\xa0cm)',\n",
       "       '44\\xa0in (112\\xa0cm)', '42 or 48\\xa0in (107 or 122\\xa0cm)',\n",
       "       '20\\xa0in (51\\xa0cm)', '47.3\\xa0in (120\\xa0cm)',\n",
       "       '122\\xa0cm (4\\xa0ft 0\\xa0in)', '102\\xa0cm (3\\xa0ft 4\\xa0in)',\n",
       "       '120\\xa0cm (3\\xa0ft 11\\xa0in)', '130\\xa0cm (4\\xa0ft 3\\xa0in)',\n",
       "       '90\\xa0cm (2\\xa0ft 11\\xa0in)',\n",
       "       '120–205\\xa0cm (3\\xa0ft 11\\xa0in–6\\xa0ft 9\\xa0in)',\n",
       "       '59–77\\xa0in (150–196\\xa0cm)', '34\\xa0in (86\\xa0cm)',\n",
       "       'Must be able to straddle seat with feet on floor.',\n",
       "       '47.24\\xa0in (120\\xa0cm)', '54–76\\xa0in (137–193\\xa0cm)',\n",
       "       '43.3\\xa0in (110\\xa0cm)', '51\\xa0in (130\\xa0cm)',\n",
       "       '54–78[1]\\xa0in (137–198\\xa0cm)', '35\\xa0in (89\\xa0cm)',\n",
       "       '110\\xa0cm (3\\xa0ft 7\\xa0in)',\n",
       "       '140–200\\xa0cm (4\\xa0ft 7\\xa0in–6\\xa0ft 7\\xa0in)',\n",
       "       '55\\xa0in (140\\xa0cm)',\n",
       "       '140–195\\xa0cm (4\\xa0ft 7\\xa0in–6\\xa0ft 5\\xa0in)',\n",
       "       '132–198\\xa0cm (4\\xa0ft 4\\xa0in–6\\xa0ft 6\\xa0in)',\n",
       "       '48[1]\\xa0in (122\\xa0cm)', '47.2\\xa0in (120\\xa0cm)',\n",
       "       '52–79\\xa0in (132–201\\xa0cm)', '99\\xa0cm (3\\xa0ft 3\\xa0in)',\n",
       "       '54–78\\xa0in (137–198\\xa0cm)', '55–78.75\\xa0in (140–200\\xa0cm)',\n",
       "       '52–78\\xa0in (132–198\\xa0cm)', '33\\xa0in (84\\xa0cm)',\n",
       "       '41\\xa0in (104\\xa0cm)', '36[1]\\xa0in (91\\xa0cm)',\n",
       "       '51–76.7\\xa0in (130–195\\xa0cm)',\n",
       "       '120–195\\xa0cm (3\\xa0ft 11\\xa0in–6\\xa0ft 5\\xa0in)',\n",
       "       '48–78[1]\\xa0in (122–198\\xa0cm)',\n",
       "       '140–185\\xa0cm (4\\xa0ft 7\\xa0in–6\\xa0ft 1\\xa0in)',\n",
       "       '44–76\\xa0in (112–193\\xa0cm)'], dtype=object)"
      ]
     },
     "execution_count": 9,
     "metadata": {},
     "output_type": "execute_result"
    }
   ],
   "source": [
    "df['Height restriction'].unique()[:50]"
   ]
  },
  {
   "cell_type": "code",
   "execution_count": 10,
   "id": "27606223-9f9a-4f8f-8da0-069dfe152aee",
   "metadata": {},
   "outputs": [
    {
     "data": {
      "text/plain": [
       "array([nan, '$50,000', '$75,000', '$140,000', '$50,000 USD',\n",
       "       '£25,000 (1922)', 'USD$50,000', '$125,000', 'less than $20,000',\n",
       "       '$176,000 CDN', '$250,000', '$175,000', '$200,000',\n",
       "       '48 million FIM (1951);[1]1.62 million EUR (in 2021 euros, inflation-adjusted)[2]',\n",
       "       '$1,000,000', '$1,200,000 USD', '$1,200,000', '$1,750,000 USD',\n",
       "       '$500,000', '$400,000',\n",
       "       'US$2 million($9.1\\xa0million in 2020 dollars[1])', '$2,000,000',\n",
       "       '$3,000,000 (1976)', '$1,600,000', '$1.35 million', '$3 million',\n",
       "       '£813,000', '$2.3 million', '$3,400,000', '$5,000,000[1]',\n",
       "       '$2.8 million', '$3.2 million', '£1,000,000', '$2,100,000',\n",
       "       'US$2.5 million – US$3 million', '$10 million', '$3,800,000',\n",
       "       '$1.2M est.', '€ 9,4 million', '$2.7M est.', '1.2M',\n",
       "       'A$3.3 million', '$6.5 million', '2.5 Million', 'US$10 million',\n",
       "       'CA$9 million[1]', 'USD $150,000', '$6,000,000',\n",
       "       '£1 million Rebuild', '3,000,000 USD'], dtype=object)"
      ]
     },
     "execution_count": 10,
     "metadata": {},
     "output_type": "execute_result"
    }
   ],
   "source": [
    "df['Cost'].unique()[:50]"
   ]
  },
  {
   "cell_type": "code",
   "execution_count": 11,
   "id": "9b4c07a4-b962-4ee2-8248-d2724b36bb56",
   "metadata": {},
   "outputs": [
    {
     "data": {
      "text/plain": [
       "array([nan, '0 to 55 mph (0 to 89 km/h) in 3 seconds',\n",
       "       '0 to 87 km/h (0 to 54 mph) in 4 seconds', '4',\n",
       "       '0 to 54 mph (0 to 87 km/h) in 4 seconds', '5 mrsn',\n",
       "       '+2.75g (25 m/s)', '0 to 104 mph in 7 seconds',\n",
       "       '0 to 160.9 km/h (0 to 100 mph) in 7 seconds',\n",
       "       '0 to 65\\xa0mph (105\\xa0km/h) in 4 seconds',\n",
       "       '0 to 70 mph (0 to 113 km/h) in 3.8 seconds',\n",
       "       '0 to 40 mph (0 to 64 km/h) in 2 seconds', '0 - 60 in 3 seconds',\n",
       "       '0 to 60 mph (0 to 97 km/h) in 3.5 seconds',\n",
       "       '0–53 mph in 2.8 seconds',\n",
       "       '0 to 57 mph (0 to 92 km/h) in 2.8 seconds', '0 to 45 to 70mph',\n",
       "       '0 − 55.9 mph in 2.8 seconds',\n",
       "       '0 to 55 mph (0 to 89 km/h) in 4.5 seconds',\n",
       "       '0 to 180 km/h (0 to 112 mph) in 1.6 seconds',\n",
       "       '0-80 in 1.8 seconds', '0-60 mph in 4.0 seconds',\n",
       "       '0 − 82\\xa0mph (132\\xa0km/h) in 2.3 seconds',\n",
       "       '0 to 120 mph (0 to 193 km/h) in 4 seconds',\n",
       "       '\"0 to 46.6 mph (0 to 75 km/h) in 3 seconds\".',\n",
       "       '0 to 72 mph (0 to 116 km/h) in 2 seconds',\n",
       "       '0 to 40 mph (0 to 64 km/h) in 3 seconds',\n",
       "       '0 to 72 km/h in 2 seconds',\n",
       "       '0 to 128 mph (0 to 206 km/h) in 3.5 seconds',\n",
       "       '0 to 98.3 km/h (0 to 61 mph) in 2.5 seconds',\n",
       "       '0 to 100 km/h (0 to 62 mph) in 2 seconds',\n",
       "       '0 - 55.9mph in 2.2 seconds',\n",
       "       '0 to 80 mph (0 to 129 km/h) in 1.9 seconds',\n",
       "       '6 - 45 mph in 2 seconds', '0-83.9 mph (0-135 km/h) in 3 seconds',\n",
       "       '0 to 72\\xa0km/h in 2 seconds', '0 - 38 mph',\n",
       "       '0 to 38 mph (0 to 61 km/h) in 3 seconds',\n",
       "       '0 to 62.1 mph in 2.5 seconds', '0 - 68 mph in 2.2 seconds',\n",
       "       '0 to 240 km/h (0 to 149 mph) in 4.9 seconds',\n",
       "       '0 to 50 mph (0 to 80 km/h) in 3 seconds',\n",
       "       '0 to 90 km/h (0 to 56 mph) in 1.6 seconds',\n",
       "       '0 to 99.4 mph (0 to 160 km/h) in 2 seconds',\n",
       "       '0 to 16\\xa0mph (26\\xa0km/h) in 1.1 secs 0 to 20\\xa0mph (32\\xa0km/h) in 2 secs',\n",
       "       '0 to 104.4 km/h (0 to 65 mph) in 1.9 seconds',\n",
       "       '0–100kph (62.1 mph) in 1.2 seconds',\n",
       "       '0 to 180 km/h (0 to 112 mph) in 5 seconds',\n",
       "       '0 to 42 mph (0 to 68 km/h) in 2.5 seconds',\n",
       "       '0 to 78 (0 to 125 km/h) in 2 seconds'], dtype=object)"
      ]
     },
     "execution_count": 11,
     "metadata": {},
     "output_type": "execute_result"
    }
   ],
   "source": [
    "df['Acceleration'].unique()[:50]"
   ]
  },
  {
   "cell_type": "code",
   "execution_count": 12,
   "id": "cbe34230-10c1-4f4f-aaeb-e8c46d3380e8",
   "metadata": {},
   "outputs": [
    {
     "data": {
      "text/plain": [
       "array(['30°', nan, '25°', '64°', '45°', '52°', '46°',\n",
       "       '40 degrees at bottom of first drop°', '59°', '58.1°', '35°',\n",
       "       '39°', '50°', '47°', '3°', '1°', '54°', '55°', '53°', '80°', '70°',\n",
       "       '62°', '43°', '42°', '36°', '33°', '60°', '78°', '85°', '27°',\n",
       "       '89°', '97°', '65°', '79°', '75°', '48°', '81°', '29°', '40°',\n",
       "       '56°', '13°', '61°', '90°', '51°', '66°', '87.5°', '53.3°', '91°',\n",
       "       '76°', '68°'], dtype=object)"
      ]
     },
     "execution_count": 12,
     "metadata": {},
     "output_type": "execute_result"
    }
   ],
   "source": [
    "df['Max vertical angle'].unique()[:50]"
   ]
  },
  {
   "cell_type": "code",
   "execution_count": 13,
   "id": "344583c6-cf5e-4dc1-a914-17f5dcec4cfe",
   "metadata": {},
   "outputs": [
    {
     "data": {
      "text/plain": [
       "array(['1:00', nan, '1 minute 30 seconds', '1:32', '1:58', '1:52', '1:36',\n",
       "       '2:28', '1:41', '1:18', '1:45', '1:17', '1:10', '2:30', '1:15',\n",
       "       'between 1 minute 20 seconds and 1 minute 30 seconds', '1:30',\n",
       "       '1:40', '3:10', '1:44', '3 min (approx)', '2:20[1]', '2:20',\n",
       "       '2:00', '1:50', '2:10', '0:50', '1:24', '2:15[4]', '1min 30sec',\n",
       "       '2:07', '3:20', '2:51', '2:50', '1:29', '6:33', '0:30', '3:00',\n",
       "       '3:15', '2 min. 30 sec.', '2:17', '2:15', '0:22', '2:23', '0:27',\n",
       "       '1:08', '79 seconds', '1:06', '3:00 min', '2:00[1]'], dtype=object)"
      ]
     },
     "execution_count": 13,
     "metadata": {},
     "output_type": "execute_result"
    }
   ],
   "source": [
    "df['Duration'].unique()[:50]"
   ]
  },
  {
   "cell_type": "code",
   "execution_count": 14,
   "id": "c6577707-c3b1-4903-bd8b-7c01757d3dec",
   "metadata": {},
   "outputs": [
    {
     "data": {
      "text/plain": [
       "array(['1600 riders per hour', nan, '1400 riders per hour',\n",
       "       '85 riders per hour', '1440 riders per hour',\n",
       "       '600 riders per hour', '1,100 riders per hour',\n",
       "       '950 riders per hour', '1,320 riders per hour',\n",
       "       '640 riders per hour', '1,400 riders per hour',\n",
       "       '2010 riders per hour', '2200 riders per hour',\n",
       "       '2400 riders per hour', '500 riders per hour',\n",
       "       '1750 riders per hour', '360 riders per hour',\n",
       "       '1800 riders per hour', '1000 riders per hour',\n",
       "       '2640 riders per hour', '1200 riders per hour',\n",
       "       '2,000 riders per hour', '900 riders per hour',\n",
       "       '1125 riders per hour', '1250 riders per hour',\n",
       "       '480 riders per hour', '1,800 riders per hour',\n",
       "       '1300 riders per hour', '1,150 riders per hour',\n",
       "       '1,200 riders per hour', '450 riders per hour',\n",
       "       '810 riders per hour', '525 riders per hour',\n",
       "       '1175 riders per hour',\n",
       "       '2,057 (11 rockets) 1,741 (10 rockets) 1,440 (9 rockets) riders per hour',\n",
       "       '3,300 riders per hour', '800 riders per hour',\n",
       "       '1344 riders per hour', '3840 riders per hour',\n",
       "       '1,600 riders per hour', '1550 riders per hour',\n",
       "       '28 riders per hour', '1700 riders per hour',\n",
       "       '960 riders per hour', '2100 riders per hour',\n",
       "       '200 riders per hour', '240 riders per hour',\n",
       "       '1100 riders per hour', '760 riders per hour',\n",
       "       '600-675 riders per hour'], dtype=object)"
      ]
     },
     "execution_count": 14,
     "metadata": {},
     "output_type": "execute_result"
    }
   ],
   "source": [
    "df['Capacity'].unique()[:50]"
   ]
  },
  {
   "cell_type": "code",
   "execution_count": 15,
   "id": "2c7584dd-35b9-4b4f-95b8-694156018798",
   "metadata": {},
   "outputs": [
    {
     "data": {
      "text/plain": [
       "array(['43\\xa0ft (13\\xa0m)', nan, '9\\xa0ft (2.7\\xa0m)',\n",
       "       '50\\xa0ft (15\\xa0m)', '70\\xa0ft (21\\xa0m)', '88\\xa0ft (27\\xa0m)',\n",
       "       '40\\xa0ft (12\\xa0m)', '75\\xa0ft (23\\xa0m)',\n",
       "       '59.58\\xa0ft (18.16\\xa0m)', '65\\xa0ft (20\\xa0m)',\n",
       "       '90\\xa0ft (27\\xa0m)', '60\\xa0ft (18\\xa0m)', '78\\xa0ft (24\\xa0m)',\n",
       "       '23\\xa0m (75\\xa0ft)', '19.4\\xa0m (64\\xa0ft)', '51\\xa0ft (16\\xa0m)',\n",
       "       '54\\xa0ft (16\\xa0m)', '25\\xa0ft (7.6\\xa0m)', '80\\xa0ft (24\\xa0m)',\n",
       "       '24\\xa0ft (7.3\\xa0m)', '12\\xa0ft (3.7\\xa0m)', '67\\xa0ft (20\\xa0m)',\n",
       "       '72\\xa0ft (22\\xa0m)', '35\\xa0ft (11\\xa0m)', '41\\xa0ft (12\\xa0m)',\n",
       "       '20\\xa0ft (6.1\\xa0m)', '82.17\\xa0ft (25.0\\xa0m)',\n",
       "       '30\\xa0ft (9.1\\xa0m)', '34\\xa0ft (10\\xa0m)', '89\\xa0ft (27\\xa0m)',\n",
       "       '2.44\\xa0m (8.0\\xa0ft)', '62\\xa0ft (19\\xa0m)',\n",
       "       '81\\xa0ft (24.7\\xa0m)', '26\\xa0ft (7.9\\xa0m)',\n",
       "       '2\\xa0ft (0.61\\xa0m)', '56\\xa0ft (17\\xa0m)', '3\\xa0ft (0.91\\xa0m)',\n",
       "       '83\\xa0ft (25\\xa0m)', '92\\xa0ft (28\\xa0m)', '88\\xa0ft (26.8\\xa0m)',\n",
       "       '64\\xa0ft (20\\xa0m)', '47\\xa0ft (14\\xa0m)', '128\\xa0ft (39\\xa0m)',\n",
       "       '118\\xa0ft (36.0\\xa0m)', '114\\xa0ft (35\\xa0m)',\n",
       "       '137\\xa0ft (42\\xa0m)', '141\\xa0ft (43\\xa0m)', '68\\xa0ft (21\\xa0m)',\n",
       "       '115\\xa0ft (35\\xa0m)', '147\\xa0ft (44.8\\xa0m)'], dtype=object)"
      ]
     },
     "execution_count": 15,
     "metadata": {},
     "output_type": "execute_result"
    }
   ],
   "source": [
    "df['Drop'].unique()[:50]"
   ]
  },
  {
   "cell_type": "markdown",
   "id": "d20fc952-1c05-42b4-b61e-5ef73966cb00",
   "metadata": {},
   "source": [
    "I don't think I need to drop anything there. Let's start cleaning"
   ]
  },
  {
   "cell_type": "code",
   "execution_count": 16,
   "id": "b4774c75-faa5-4f37-9f14-dd476663838c",
   "metadata": {},
   "outputs": [
    {
     "data": {
      "text/html": [
       "<div>\n",
       "<style scoped>\n",
       "    .dataframe tbody tr th:only-of-type {\n",
       "        vertical-align: middle;\n",
       "    }\n",
       "\n",
       "    .dataframe tbody tr th {\n",
       "        vertical-align: top;\n",
       "    }\n",
       "\n",
       "    .dataframe thead th {\n",
       "        text-align: right;\n",
       "    }\n",
       "</style>\n",
       "<table border=\"1\" class=\"dataframe\">\n",
       "  <thead>\n",
       "    <tr style=\"text-align: right;\">\n",
       "      <th></th>\n",
       "      <th>coaster_name</th>\n",
       "      <th>Location</th>\n",
       "      <th>Status</th>\n",
       "      <th>Manufacturer</th>\n",
       "      <th>Model</th>\n",
       "      <th>Lift/launch system</th>\n",
       "      <th>Cost</th>\n",
       "      <th>Trains</th>\n",
       "      <th>Duration</th>\n",
       "      <th>Capacity</th>\n",
       "      <th>...</th>\n",
       "      <th>latitude</th>\n",
       "      <th>longitude</th>\n",
       "      <th>Type_Main</th>\n",
       "      <th>opening_date_clean</th>\n",
       "      <th>speed_mph</th>\n",
       "      <th>height_ft</th>\n",
       "      <th>Inversions_clean</th>\n",
       "      <th>Gforce_clean</th>\n",
       "      <th>Length_ft</th>\n",
       "      <th>Height_restriction_in</th>\n",
       "    </tr>\n",
       "  </thead>\n",
       "  <tbody>\n",
       "    <tr>\n",
       "      <th>0</th>\n",
       "      <td>Switchback Railway</td>\n",
       "      <td>Coney Island</td>\n",
       "      <td>Removed</td>\n",
       "      <td>LaMarcus Adna Thompson</td>\n",
       "      <td>Lift Packed</td>\n",
       "      <td>gravity</td>\n",
       "      <td>NaN</td>\n",
       "      <td>NaN</td>\n",
       "      <td>1:00</td>\n",
       "      <td>1600 riders per hour</td>\n",
       "      <td>...</td>\n",
       "      <td>40.5740</td>\n",
       "      <td>-73.9780</td>\n",
       "      <td>Wood</td>\n",
       "      <td>1884-06-16</td>\n",
       "      <td>6.0</td>\n",
       "      <td>NaN</td>\n",
       "      <td>0</td>\n",
       "      <td>2.9</td>\n",
       "      <td>600.0</td>\n",
       "      <td>NaN</td>\n",
       "    </tr>\n",
       "    <tr>\n",
       "      <th>1</th>\n",
       "      <td>Flip Flap Railway</td>\n",
       "      <td>Sea Lion Park</td>\n",
       "      <td>Removed</td>\n",
       "      <td>Lina Beecher</td>\n",
       "      <td>NaN</td>\n",
       "      <td>NaN</td>\n",
       "      <td>NaN</td>\n",
       "      <td>a single car. Riders are arranged 1 across in ...</td>\n",
       "      <td>NaN</td>\n",
       "      <td>NaN</td>\n",
       "      <td>...</td>\n",
       "      <td>40.5780</td>\n",
       "      <td>-73.9790</td>\n",
       "      <td>Wood</td>\n",
       "      <td>1895-01-01</td>\n",
       "      <td>NaN</td>\n",
       "      <td>NaN</td>\n",
       "      <td>1</td>\n",
       "      <td>12.0</td>\n",
       "      <td>NaN</td>\n",
       "      <td>NaN</td>\n",
       "    </tr>\n",
       "    <tr>\n",
       "      <th>2</th>\n",
       "      <td>Switchback Railway (Euclid Beach Park)</td>\n",
       "      <td>Cleveland, Ohio, United States</td>\n",
       "      <td>Closed</td>\n",
       "      <td>NaN</td>\n",
       "      <td>NaN</td>\n",
       "      <td>NaN</td>\n",
       "      <td>NaN</td>\n",
       "      <td>NaN</td>\n",
       "      <td>NaN</td>\n",
       "      <td>NaN</td>\n",
       "      <td>...</td>\n",
       "      <td>41.5800</td>\n",
       "      <td>-81.5700</td>\n",
       "      <td>Other</td>\n",
       "      <td>NaN</td>\n",
       "      <td>NaN</td>\n",
       "      <td>NaN</td>\n",
       "      <td>0</td>\n",
       "      <td>NaN</td>\n",
       "      <td>NaN</td>\n",
       "      <td>NaN</td>\n",
       "    </tr>\n",
       "    <tr>\n",
       "      <th>3</th>\n",
       "      <td>Loop the Loop (Coney Island)</td>\n",
       "      <td>Other</td>\n",
       "      <td>Removed</td>\n",
       "      <td>Edwin Prescott</td>\n",
       "      <td>NaN</td>\n",
       "      <td>NaN</td>\n",
       "      <td>NaN</td>\n",
       "      <td>a single car. Riders are arranged 2 across in ...</td>\n",
       "      <td>NaN</td>\n",
       "      <td>NaN</td>\n",
       "      <td>...</td>\n",
       "      <td>40.5745</td>\n",
       "      <td>-73.9780</td>\n",
       "      <td>Steel</td>\n",
       "      <td>1901-01-01</td>\n",
       "      <td>NaN</td>\n",
       "      <td>NaN</td>\n",
       "      <td>1</td>\n",
       "      <td>NaN</td>\n",
       "      <td>NaN</td>\n",
       "      <td>NaN</td>\n",
       "    </tr>\n",
       "    <tr>\n",
       "      <th>4</th>\n",
       "      <td>Loop the Loop (Young's Pier)</td>\n",
       "      <td>Other</td>\n",
       "      <td>Removed</td>\n",
       "      <td>Edwin Prescott</td>\n",
       "      <td>NaN</td>\n",
       "      <td>NaN</td>\n",
       "      <td>NaN</td>\n",
       "      <td>NaN</td>\n",
       "      <td>NaN</td>\n",
       "      <td>NaN</td>\n",
       "      <td>...</td>\n",
       "      <td>39.3538</td>\n",
       "      <td>-74.4342</td>\n",
       "      <td>Steel</td>\n",
       "      <td>1901-01-01</td>\n",
       "      <td>NaN</td>\n",
       "      <td>NaN</td>\n",
       "      <td>1</td>\n",
       "      <td>NaN</td>\n",
       "      <td>NaN</td>\n",
       "      <td>NaN</td>\n",
       "    </tr>\n",
       "  </tbody>\n",
       "</table>\n",
       "<p>5 rows × 28 columns</p>\n",
       "</div>"
      ],
      "text/plain": [
       "                             coaster_name                        Location  \\\n",
       "0                      Switchback Railway                    Coney Island   \n",
       "1                       Flip Flap Railway                   Sea Lion Park   \n",
       "2  Switchback Railway (Euclid Beach Park)  Cleveland, Ohio, United States   \n",
       "3            Loop the Loop (Coney Island)                           Other   \n",
       "4            Loop the Loop (Young's Pier)                           Other   \n",
       "\n",
       "    Status            Manufacturer        Model Lift/launch system Cost  \\\n",
       "0  Removed  LaMarcus Adna Thompson  Lift Packed            gravity  NaN   \n",
       "1  Removed            Lina Beecher          NaN                NaN  NaN   \n",
       "2   Closed                     NaN          NaN                NaN  NaN   \n",
       "3  Removed          Edwin Prescott          NaN                NaN  NaN   \n",
       "4  Removed          Edwin Prescott          NaN                NaN  NaN   \n",
       "\n",
       "                                              Trains Duration  \\\n",
       "0                                                NaN     1:00   \n",
       "1  a single car. Riders are arranged 1 across in ...      NaN   \n",
       "2                                                NaN      NaN   \n",
       "3  a single car. Riders are arranged 2 across in ...      NaN   \n",
       "4                                                NaN      NaN   \n",
       "\n",
       "               Capacity  ... latitude longitude Type_Main opening_date_clean  \\\n",
       "0  1600 riders per hour  ...  40.5740  -73.9780      Wood         1884-06-16   \n",
       "1                   NaN  ...  40.5780  -73.9790      Wood         1895-01-01   \n",
       "2                   NaN  ...  41.5800  -81.5700     Other                NaN   \n",
       "3                   NaN  ...  40.5745  -73.9780     Steel         1901-01-01   \n",
       "4                   NaN  ...  39.3538  -74.4342     Steel         1901-01-01   \n",
       "\n",
       "  speed_mph height_ft Inversions_clean  Gforce_clean  Length_ft  \\\n",
       "0       6.0       NaN                0           2.9      600.0   \n",
       "1       NaN       NaN                1          12.0        NaN   \n",
       "2       NaN       NaN                0           NaN        NaN   \n",
       "3       NaN       NaN                1           NaN        NaN   \n",
       "4       NaN       NaN                1           NaN        NaN   \n",
       "\n",
       "   Height_restriction_in  \n",
       "0                    NaN  \n",
       "1                    NaN  \n",
       "2                    NaN  \n",
       "3                    NaN  \n",
       "4                    NaN  \n",
       "\n",
       "[5 rows x 28 columns]"
      ]
     },
     "execution_count": 16,
     "metadata": {},
     "output_type": "execute_result"
    }
   ],
   "source": [
    "# Clean length\n",
    "df['Length_ft'] = df['Length'].str.extract(r'([\\d,\\.]+)\\s*ft')\n",
    "df['Length_ft'] = df['Length_ft'].str.replace(',', '').astype(float)\n",
    "\n",
    "# Clean height restriction, need function\n",
    "def extract_inches(value):\n",
    "    if pd.isna(value):\n",
    "        return np.nan\n",
    "\n",
    "    s = str(value)\n",
    "    s = s.replace('\\xa0', ' ')  # remove non-breaking spaces\n",
    "    s = s.strip()\n",
    "\n",
    "    # Handle non-numeric or text-based cases\n",
    "    if not re.search(r'\\d', s):\n",
    "        return np.nan\n",
    "\n",
    "    # Handle \"or\" cases like \"42 or 48 in (107 or 122 cm)\"\n",
    "    if ' or ' in s:\n",
    "        return np.nan\n",
    "\n",
    "    # Extract all ranges like \"120–205 cm\" or \"59–77 in\"\n",
    "    range_match = re.findall(r'(\\d+(?:\\.\\d+)?)\\s*[–-]\\s*(\\d+(?:\\.\\d+)?)', s)\n",
    "    if range_match:\n",
    "        # Take the lower bound only\n",
    "        low = float(range_match[0][0])\n",
    "        # Detect whether the unit is in cm or inches\n",
    "        if 'cm' in s:\n",
    "            return low / 2.54  # convert cm to inches\n",
    "        else:\n",
    "            return low  # already in inches\n",
    "\n",
    "    # Extract single inch value if present\n",
    "    inch_match = re.search(r'(\\d+(?:\\.\\d+)?)\\s*in', s)\n",
    "    if inch_match:\n",
    "        return float(inch_match.group(1))\n",
    "\n",
    "    # If only cm is present\n",
    "    cm_match = re.search(r'(\\d+(?:\\.\\d+)?)\\s*cm', s)\n",
    "    if cm_match:\n",
    "        return float(cm_match.group(1)) / 2.54  # convert cm → inches\n",
    "\n",
    "    # If no recognized numeric pattern, return NaN\n",
    "    return np.nan\n",
    "\n",
    "df['Height_restriction_in'] = df['Height restriction'].apply(extract_inches)\n",
    "df.drop(columns=['Length', 'Height restriction'], inplace=True)\n",
    "df.head()"
   ]
  },
  {
   "cell_type": "code",
   "execution_count": 17,
   "id": "79ccf3ee-8cc8-4a5d-831d-49a15387241f",
   "metadata": {},
   "outputs": [],
   "source": [
    "# Clean cost\n",
    "def clean_cost(value):\n",
    "    if pd.isna(value):\n",
    "        return np.nan\n",
    "\n",
    "    s = str(value).strip().lower()\n",
    "\n",
    "    # Normalize commas to dots (for decimals)\n",
    "    s = s.replace(',', '.')\n",
    "\n",
    "    # Remove annotations and misc text\n",
    "    s = re.sub(r'\\[.*?\\]|\\(.*?\\)|;|–|—', ' ', s)\n",
    "    s = re.sub(r'est\\.?|rebuild|less than|approximately|about|around', '', s)\n",
    "\n",
    "    # Handle ranges like \"2.5 million – 3 million\" → take average\n",
    "    range_match = re.findall(r'([\\d\\.]+)\\s*(?:m|million)?', s)\n",
    "    if len(range_match) >= 2:\n",
    "        valid_nums = []\n",
    "        for x in range_match[:2]:\n",
    "            # only keep if there's at least one digit\n",
    "            if re.search(r'\\d', x):\n",
    "                # handle formats like 1.000.000\n",
    "                if x.count('.') > 1:\n",
    "                    x = x.replace('.', '')\n",
    "                try:\n",
    "                    valid_nums.append(float(x))\n",
    "                except ValueError:\n",
    "                    continue\n",
    "        if valid_nums:\n",
    "            avg_val = np.mean(valid_nums)\n",
    "            s = f'{avg_val} million'\n",
    "\n",
    "    # Detect currency\n",
    "    if '£' in s or 'gbp' in s:\n",
    "        currency = 'GBP'\n",
    "    elif '€' in s or 'eur' in s:\n",
    "        currency = 'EUR'\n",
    "    elif 'a$' in s or 'aud' in s:\n",
    "        currency = 'AUD'\n",
    "    elif 'ca$' in s or 'cdn' in s or 'cad' in s:\n",
    "        currency = 'CAD'\n",
    "    elif 'fim' in s:\n",
    "        currency = 'FIM'\n",
    "    else:\n",
    "        currency = 'USD'\n",
    "\n",
    "    # Remove everything except digits, dots, and 'm'\n",
    "    s = re.sub(r'[^0-9\\.m]', '', s)\n",
    "\n",
    "    # Detect \"million\" or \"M\" multiplier\n",
    "    multiplier = 1\n",
    "    if 'million' in value.lower() or re.search(r'\\d+\\.?\\d*m', value.lower()):\n",
    "        multiplier = 1_000_000\n",
    "\n",
    "    # Handle “1.000.000” → “1000000”\n",
    "    if s.count('.') > 1 and multiplier == 1:\n",
    "        s = s.replace('.', '')\n",
    "\n",
    "    # Extract numeric part\n",
    "    match = re.search(r'[\\d\\.]+', s)\n",
    "    if not match or not re.search(r'\\d', match.group()):\n",
    "        return np.nan\n",
    "\n",
    "    try:\n",
    "        num = float(match.group()) * multiplier\n",
    "    except ValueError:\n",
    "        return np.nan\n",
    "\n",
    "    # Currency conversion (approximate rates)\n",
    "    conversion_rates = {\n",
    "        'USD': 1.0,\n",
    "        'GBP': 1.25,\n",
    "        'EUR': 1.1,\n",
    "        'CAD': 0.73,\n",
    "        'AUD': 0.65,\n",
    "        'FIM': 0.19 / 1.1,\n",
    "    }\n",
    "\n",
    "    rate = conversion_rates.get(currency, 1.0)\n",
    "    num_usd = num * rate\n",
    "\n",
    "    return num_usd\n",
    "\n",
    "df['Cost_USD'] = df['Cost'].apply(clean_cost)\n",
    "df.drop(columns=['Cost'], inplace=True)"
   ]
  },
  {
   "cell_type": "code",
   "execution_count": 18,
   "id": "fa567edb-7277-4654-aa98-e9c0e8bda10c",
   "metadata": {},
   "outputs": [],
   "source": [
    "def clean_acceleration(value):\n",
    "    if pd.isna(value):\n",
    "        return np.nan\n",
    "\n",
    "    s = str(value).lower().replace('\\xa0', ' ')\n",
    "    s = re.sub(r'[–—−]', '-', s)  # normalize dashes\n",
    "    s = re.sub(r'[\"“”]', '', s)   # remove stray quotes\n",
    "\n",
    "    # Case 1: Direct g-force\n",
    "    g_match = re.search(r'([\\d\\.]+)\\s*g', s)\n",
    "    if g_match:\n",
    "        g_val = float(g_match.group(1)) * 9.81\n",
    "        return round(g_val, 2)\n",
    "\n",
    "    # Case 2: Has time + speed\n",
    "    time_match = re.search(r'(\\d+(?:\\.\\d+)?)\\s*(?:s|sec|second)', s)\n",
    "    speed_match_mph = re.findall(r'(\\d+(?:\\.\\d+)?)\\s*mph', s)\n",
    "    speed_match_kmh = re.findall(r'(\\d+(?:\\.\\d+)?)\\s*(?:km/?h|kph)', s)\n",
    "\n",
    "    # Take the largest speed mentioned\n",
    "    v_m_s = None\n",
    "    if speed_match_mph:\n",
    "        mph = max([float(x) for x in speed_match_mph])\n",
    "        v_m_s = mph * 0.44704  # mph → m/s\n",
    "    elif speed_match_kmh:\n",
    "        kmh = max([float(x) for x in speed_match_kmh])\n",
    "        v_m_s = kmh / 3.6       # km/h → m/s\n",
    "\n",
    "    if time_match and v_m_s:\n",
    "        t = float(time_match.group(1))\n",
    "        if t > 0:\n",
    "            return round(v_m_s / t, 2)\n",
    "\n",
    "    # Case 3: \"0-80 in 1.8 seconds\" type (no unit) \n",
    "    alt_match = re.search(r'0\\s*[-to]+\\s*(\\d+(?:\\.\\d+)?)\\s*(?:in)?\\s*(\\d+(?:\\.\\d+)?)\\s*(?:s|sec|second)', s)\n",
    "    if alt_match:\n",
    "        v = float(alt_match.group(1))\n",
    "        t = float(alt_match.group(2))\n",
    "        # assume mph if no unit\n",
    "        return round((v * 0.44704) / t, 2)\n",
    "\n",
    "    # Case 4: If only time or nonsense \n",
    "    return np.nan\n",
    "\n",
    "df['Acceleration_clean'] = df['Acceleration'].apply(clean_acceleration)\n",
    "df.drop(columns=['Acceleration'], inplace=True)"
   ]
  },
  {
   "cell_type": "code",
   "execution_count": 19,
   "id": "e51ac008-bf32-4bd3-b1d8-50e8f228f198",
   "metadata": {},
   "outputs": [],
   "source": [
    "def clean_max_vertical_angle(value):\n",
    "    if pd.isna(value):\n",
    "        return np.nan\n",
    "    value = str(value).lower().strip()\n",
    "\n",
    "    # remove the degree symbol and words like \"degrees\" or extra notes\n",
    "    value = re.sub(r'[^0-9.\\-]', ' ', value)  # keep only numbers, dots, and minus\n",
    "    # extract the first numeric value in the string\n",
    "    match = re.search(r'\\d+(\\.\\d+)?', value)\n",
    "    if match:\n",
    "        return float(match.group())\n",
    "    return np.nan\n",
    "\n",
    "df['Max_vertical_angle'] = df['Max vertical angle'].apply(clean_max_vertical_angle)\n",
    "df.drop(columns=['Max vertical angle'], inplace=True)"
   ]
  },
  {
   "cell_type": "code",
   "execution_count": 20,
   "id": "87b1a6af-9d9f-477c-961a-c4b9e996fb1b",
   "metadata": {},
   "outputs": [],
   "source": [
    "def duration_to_seconds(value):\n",
    "    if pd.isna(value):\n",
    "        return np.nan\n",
    "    value = str(value).lower().strip()\n",
    "\n",
    "    # remove annotations like [1], [4], (approx)\n",
    "    value = re.sub(r'\\[.*?\\]|\\(.*?\\)', '', value)\n",
    "\n",
    "    # handle ranges (use upper bound)\n",
    "    if \"between\" in value and \"and\" in value:\n",
    "        parts = re.split(r'\\band\\b', value)\n",
    "        value = parts[-1]  # take upper bound\n",
    "    elif \"-\" in value and not re.search(r'\\d:\\d{2}', value):\n",
    "        # e.g. \"1:20 - 1:30\" or \"1 min - 2 min\"\n",
    "        parts = re.split(r'[-–]', value)\n",
    "        value = parts[-1]\n",
    "\n",
    "    # Handle colon format (e.g. 1:32 → 92 sec)\n",
    "    colon_match = re.match(r'(\\d+):(\\d+)', value)\n",
    "    if colon_match:\n",
    "        minutes = int(colon_match.group(1))\n",
    "        seconds = int(colon_match.group(2))\n",
    "        return minutes * 60 + seconds\n",
    "\n",
    "    # Handle cases like '3 min 15 sec', '1min 30sec', '3:00 min', etc.\n",
    "    minutes = 0\n",
    "    seconds = 0\n",
    "\n",
    "    min_match = re.search(r'(\\d+(?:\\.\\d+)?)\\s*(?:min|minute)', value)\n",
    "    sec_match = re.search(r'(\\d+(?:\\.\\d+)?)\\s*(?:sec|second)', value)\n",
    "    if min_match:\n",
    "        minutes = float(min_match.group(1))\n",
    "    if sec_match:\n",
    "        seconds = float(sec_match.group(1))\n",
    "    if minutes or seconds:\n",
    "        return minutes * 60 + seconds\n",
    "\n",
    "    # Handle \"3 min\" or \"3:00 min\"\n",
    "    only_min = re.match(r'(\\d+(?:\\.\\d+)?)\\s*min', value)\n",
    "    if only_min:\n",
    "        return float(only_min.group(1)) * 60\n",
    "\n",
    "    # Handle \"79 seconds\"\n",
    "    only_sec = re.match(r'(\\d+(?:\\.\\d+)?)\\s*sec', value)\n",
    "    if only_sec:\n",
    "        return float(only_sec.group(1))\n",
    "\n",
    "    # Handle plain seconds or minutes like \"90\", \"3 minutes\"\n",
    "    if re.match(r'^\\d+(\\.\\d+)?$', value):\n",
    "        return float(value)\n",
    "    if 'minute' in value:\n",
    "        num = re.findall(r'\\d+(?:\\.\\d+)?', value)\n",
    "        if num:\n",
    "            return float(num[-1]) * 60\n",
    "\n",
    "    return np.nan  # fallback\n",
    "\n",
    "df['Duration_seconds'] = df['Duration'].apply(duration_to_seconds)\n",
    "df.drop(columns=['Duration'], inplace=True)"
   ]
  },
  {
   "cell_type": "code",
   "execution_count": 21,
   "id": "86348b55-7315-42cc-ac5d-199311685ba8",
   "metadata": {},
   "outputs": [],
   "source": [
    "def clean_capacity(value):\n",
    "    if pd.isna(value):\n",
    "        return np.nan\n",
    "\n",
    "    value = str(value)\n",
    "\n",
    "    # Remove commas and lowercase everything\n",
    "    value = value.replace(',', '').lower()\n",
    "\n",
    "    # Extract all numeric values\n",
    "    numbers = re.findall(r'\\d+', value)\n",
    "\n",
    "    if not numbers:\n",
    "        return np.nan\n",
    "\n",
    "    # Convert all to integers\n",
    "    numbers = [int(n) for n in numbers]\n",
    "\n",
    "    # If it’s a range like “600–675”, take the upper bound\n",
    "    if 'to' in value or '-' in value:\n",
    "        return max(numbers)\n",
    "\n",
    "    # If multiple values (like multiple ride configurations), take the maximum\n",
    "    if len(numbers) > 1:\n",
    "        return max(numbers)\n",
    "\n",
    "    # Otherwise, single clean number\n",
    "    return numbers[0]\n",
    "\n",
    "df['Capacity_riders_per_hour'] = df['Capacity'].apply(clean_capacity).astype('Int64')\n",
    "df.drop(columns=['Capacity'], inplace=True)"
   ]
  },
  {
   "cell_type": "code",
   "execution_count": 22,
   "id": "bdf86037-dc46-4304-ab2b-9f3b2a4e012c",
   "metadata": {},
   "outputs": [],
   "source": [
    "def clean_drop(value):\n",
    "    if pd.isna(value):\n",
    "        return np.nan\n",
    "\n",
    "    value = str(value).replace('\\xa0', ' ').lower()\n",
    "\n",
    "    # Try to extract feet first\n",
    "    match_ft = re.search(r'([\\d.]+)\\s*ft', value)\n",
    "    if match_ft:\n",
    "        return float(match_ft.group(1))\n",
    "\n",
    "    # If no feet, try meters and convert to ft\n",
    "    match_m = re.search(r'([\\d.]+)\\s*m', value)\n",
    "    if match_m:\n",
    "        return float(match_m.group(1)) * 3.28084  # meters → feet\n",
    "\n",
    "    return np.nan\n",
    "\n",
    "df['Drop_ft'] = df['Drop'].apply(clean_drop)\n",
    "df.drop(columns=['Drop'], inplace=True)"
   ]
  },
  {
   "cell_type": "code",
   "execution_count": 23,
   "id": "4c5d576b-5d01-4449-b72d-e0d214eb0c91",
   "metadata": {},
   "outputs": [
    {
     "name": "stdout",
     "output_type": "stream",
     "text": [
      "<class 'pandas.core.frame.DataFrame'>\n",
      "RangeIndex: 1087 entries, 0 to 1086\n",
      "Data columns (total 28 columns):\n",
      " #   Column                    Non-Null Count  Dtype  \n",
      "---  ------                    --------------  -----  \n",
      " 0   coaster_name              1087 non-null   object \n",
      " 1   Location                  1087 non-null   object \n",
      " 2   Status                    874 non-null    object \n",
      " 3   Manufacturer              1028 non-null   object \n",
      " 4   Model                     744 non-null    object \n",
      " 5   Lift/launch system        795 non-null    object \n",
      " 6   Trains                    718 non-null    object \n",
      " 7   Designer                  578 non-null    object \n",
      " 8   Track layout              335 non-null    object \n",
      " 9   Restraint Style           22 non-null     object \n",
      " 10  Restraints                24 non-null     object \n",
      " 11  year_introduced           1087 non-null   int64  \n",
      " 12  latitude                  812 non-null    float64\n",
      " 13  longitude                 812 non-null    float64\n",
      " 14  Type_Main                 1087 non-null   object \n",
      " 15  opening_date_clean        837 non-null    object \n",
      " 16  speed_mph                 937 non-null    float64\n",
      " 17  height_ft                 171 non-null    float64\n",
      " 18  Inversions_clean          1087 non-null   int64  \n",
      " 19  Gforce_clean              362 non-null    float64\n",
      " 20  Length_ft                 952 non-null    float64\n",
      " 21  Height_restriction_in     829 non-null    float64\n",
      " 22  Cost_USD                  379 non-null    float64\n",
      " 23  Acceleration_clean        55 non-null     float64\n",
      " 24  Max_vertical_angle        357 non-null    float64\n",
      " 25  Duration_seconds          754 non-null    float64\n",
      " 26  Capacity_riders_per_hour  575 non-null    Int64  \n",
      " 27  Drop_ft                   494 non-null    float64\n",
      "dtypes: Int64(1), float64(12), int64(2), object(13)\n",
      "memory usage: 239.0+ KB\n"
     ]
    }
   ],
   "source": [
    "df.info()"
   ]
  },
  {
   "cell_type": "code",
   "execution_count": 24,
   "id": "3f69dbe5-fb68-4611-8d6b-a5e1108a2f80",
   "metadata": {},
   "outputs": [
    {
     "data": {
      "text/html": [
       "<div>\n",
       "<style scoped>\n",
       "    .dataframe tbody tr th:only-of-type {\n",
       "        vertical-align: middle;\n",
       "    }\n",
       "\n",
       "    .dataframe tbody tr th {\n",
       "        vertical-align: top;\n",
       "    }\n",
       "\n",
       "    .dataframe thead th {\n",
       "        text-align: right;\n",
       "    }\n",
       "</style>\n",
       "<table border=\"1\" class=\"dataframe\">\n",
       "  <thead>\n",
       "    <tr style=\"text-align: right;\">\n",
       "      <th></th>\n",
       "      <th>coaster_name</th>\n",
       "      <th>Location</th>\n",
       "      <th>Status</th>\n",
       "      <th>Manufacturer</th>\n",
       "      <th>Model</th>\n",
       "      <th>Lift/launch system</th>\n",
       "      <th>Trains</th>\n",
       "      <th>Designer</th>\n",
       "      <th>Track layout</th>\n",
       "      <th>Restraint Style</th>\n",
       "      <th>...</th>\n",
       "      <th>Inversions_clean</th>\n",
       "      <th>Gforce_clean</th>\n",
       "      <th>Length_ft</th>\n",
       "      <th>Height_restriction_in</th>\n",
       "      <th>Cost_USD</th>\n",
       "      <th>Acceleration_clean</th>\n",
       "      <th>Max_vertical_angle</th>\n",
       "      <th>Duration_seconds</th>\n",
       "      <th>Capacity_riders_per_hour</th>\n",
       "      <th>Drop_ft</th>\n",
       "    </tr>\n",
       "  </thead>\n",
       "  <tbody>\n",
       "    <tr>\n",
       "      <th>0</th>\n",
       "      <td>Switchback Railway</td>\n",
       "      <td>Coney Island</td>\n",
       "      <td>Removed</td>\n",
       "      <td>LaMarcus Adna Thompson</td>\n",
       "      <td>Lift Packed</td>\n",
       "      <td>gravity</td>\n",
       "      <td>NaN</td>\n",
       "      <td>LaMarcus Adna Thompson</td>\n",
       "      <td>Gravity pulled coaster</td>\n",
       "      <td>NaN</td>\n",
       "      <td>...</td>\n",
       "      <td>0</td>\n",
       "      <td>2.9</td>\n",
       "      <td>600.0</td>\n",
       "      <td>NaN</td>\n",
       "      <td>NaN</td>\n",
       "      <td>NaN</td>\n",
       "      <td>30.0</td>\n",
       "      <td>60.0</td>\n",
       "      <td>1600</td>\n",
       "      <td>43.0</td>\n",
       "    </tr>\n",
       "    <tr>\n",
       "      <th>1</th>\n",
       "      <td>Flip Flap Railway</td>\n",
       "      <td>Sea Lion Park</td>\n",
       "      <td>Removed</td>\n",
       "      <td>Lina Beecher</td>\n",
       "      <td>NaN</td>\n",
       "      <td>NaN</td>\n",
       "      <td>a single car. Riders are arranged 1 across in ...</td>\n",
       "      <td>Lina Beecher</td>\n",
       "      <td>NaN</td>\n",
       "      <td>NaN</td>\n",
       "      <td>...</td>\n",
       "      <td>1</td>\n",
       "      <td>12.0</td>\n",
       "      <td>NaN</td>\n",
       "      <td>NaN</td>\n",
       "      <td>NaN</td>\n",
       "      <td>NaN</td>\n",
       "      <td>NaN</td>\n",
       "      <td>NaN</td>\n",
       "      <td>&lt;NA&gt;</td>\n",
       "      <td>NaN</td>\n",
       "    </tr>\n",
       "    <tr>\n",
       "      <th>2</th>\n",
       "      <td>Switchback Railway (Euclid Beach Park)</td>\n",
       "      <td>Cleveland, Ohio, United States</td>\n",
       "      <td>Closed</td>\n",
       "      <td>NaN</td>\n",
       "      <td>NaN</td>\n",
       "      <td>NaN</td>\n",
       "      <td>NaN</td>\n",
       "      <td>NaN</td>\n",
       "      <td>NaN</td>\n",
       "      <td>NaN</td>\n",
       "      <td>...</td>\n",
       "      <td>0</td>\n",
       "      <td>NaN</td>\n",
       "      <td>NaN</td>\n",
       "      <td>NaN</td>\n",
       "      <td>NaN</td>\n",
       "      <td>NaN</td>\n",
       "      <td>NaN</td>\n",
       "      <td>NaN</td>\n",
       "      <td>&lt;NA&gt;</td>\n",
       "      <td>NaN</td>\n",
       "    </tr>\n",
       "    <tr>\n",
       "      <th>3</th>\n",
       "      <td>Loop the Loop (Coney Island)</td>\n",
       "      <td>Other</td>\n",
       "      <td>Removed</td>\n",
       "      <td>Edwin Prescott</td>\n",
       "      <td>NaN</td>\n",
       "      <td>NaN</td>\n",
       "      <td>a single car. Riders are arranged 2 across in ...</td>\n",
       "      <td>Edward A. Green</td>\n",
       "      <td>NaN</td>\n",
       "      <td>NaN</td>\n",
       "      <td>...</td>\n",
       "      <td>1</td>\n",
       "      <td>NaN</td>\n",
       "      <td>NaN</td>\n",
       "      <td>NaN</td>\n",
       "      <td>NaN</td>\n",
       "      <td>NaN</td>\n",
       "      <td>NaN</td>\n",
       "      <td>NaN</td>\n",
       "      <td>&lt;NA&gt;</td>\n",
       "      <td>NaN</td>\n",
       "    </tr>\n",
       "    <tr>\n",
       "      <th>4</th>\n",
       "      <td>Loop the Loop (Young's Pier)</td>\n",
       "      <td>Other</td>\n",
       "      <td>Removed</td>\n",
       "      <td>Edwin Prescott</td>\n",
       "      <td>NaN</td>\n",
       "      <td>NaN</td>\n",
       "      <td>NaN</td>\n",
       "      <td>Edward A. Green</td>\n",
       "      <td>NaN</td>\n",
       "      <td>NaN</td>\n",
       "      <td>...</td>\n",
       "      <td>1</td>\n",
       "      <td>NaN</td>\n",
       "      <td>NaN</td>\n",
       "      <td>NaN</td>\n",
       "      <td>NaN</td>\n",
       "      <td>NaN</td>\n",
       "      <td>NaN</td>\n",
       "      <td>NaN</td>\n",
       "      <td>&lt;NA&gt;</td>\n",
       "      <td>NaN</td>\n",
       "    </tr>\n",
       "  </tbody>\n",
       "</table>\n",
       "<p>5 rows × 28 columns</p>\n",
       "</div>"
      ],
      "text/plain": [
       "                             coaster_name                        Location  \\\n",
       "0                      Switchback Railway                    Coney Island   \n",
       "1                       Flip Flap Railway                   Sea Lion Park   \n",
       "2  Switchback Railway (Euclid Beach Park)  Cleveland, Ohio, United States   \n",
       "3            Loop the Loop (Coney Island)                           Other   \n",
       "4            Loop the Loop (Young's Pier)                           Other   \n",
       "\n",
       "    Status            Manufacturer        Model Lift/launch system  \\\n",
       "0  Removed  LaMarcus Adna Thompson  Lift Packed            gravity   \n",
       "1  Removed            Lina Beecher          NaN                NaN   \n",
       "2   Closed                     NaN          NaN                NaN   \n",
       "3  Removed          Edwin Prescott          NaN                NaN   \n",
       "4  Removed          Edwin Prescott          NaN                NaN   \n",
       "\n",
       "                                              Trains                Designer  \\\n",
       "0                                                NaN  LaMarcus Adna Thompson   \n",
       "1  a single car. Riders are arranged 1 across in ...            Lina Beecher   \n",
       "2                                                NaN                     NaN   \n",
       "3  a single car. Riders are arranged 2 across in ...         Edward A. Green   \n",
       "4                                                NaN         Edward A. Green   \n",
       "\n",
       "             Track layout Restraint Style  ... Inversions_clean  Gforce_clean  \\\n",
       "0  Gravity pulled coaster             NaN  ...                0           2.9   \n",
       "1                     NaN             NaN  ...                1          12.0   \n",
       "2                     NaN             NaN  ...                0           NaN   \n",
       "3                     NaN             NaN  ...                1           NaN   \n",
       "4                     NaN             NaN  ...                1           NaN   \n",
       "\n",
       "   Length_ft  Height_restriction_in Cost_USD Acceleration_clean  \\\n",
       "0      600.0                    NaN      NaN                NaN   \n",
       "1        NaN                    NaN      NaN                NaN   \n",
       "2        NaN                    NaN      NaN                NaN   \n",
       "3        NaN                    NaN      NaN                NaN   \n",
       "4        NaN                    NaN      NaN                NaN   \n",
       "\n",
       "   Max_vertical_angle  Duration_seconds  Capacity_riders_per_hour  Drop_ft  \n",
       "0                30.0              60.0                      1600     43.0  \n",
       "1                 NaN               NaN                      <NA>      NaN  \n",
       "2                 NaN               NaN                      <NA>      NaN  \n",
       "3                 NaN               NaN                      <NA>      NaN  \n",
       "4                 NaN               NaN                      <NA>      NaN  \n",
       "\n",
       "[5 rows x 28 columns]"
      ]
     },
     "execution_count": 24,
     "metadata": {},
     "output_type": "execute_result"
    }
   ],
   "source": [
    "df.head()"
   ]
  },
  {
   "cell_type": "code",
   "execution_count": 25,
   "id": "5c992cc3-177e-4c60-97b4-a476e447607d",
   "metadata": {},
   "outputs": [
    {
     "data": {
      "text/plain": [
       "coaster_name                   0\n",
       "Location                       0\n",
       "Status                       213\n",
       "Manufacturer                  59\n",
       "Model                        343\n",
       "Lift/launch system           292\n",
       "Trains                       369\n",
       "Designer                     509\n",
       "Track layout                 752\n",
       "Restraint Style             1065\n",
       "Restraints                  1063\n",
       "year_introduced                0\n",
       "latitude                     275\n",
       "longitude                    275\n",
       "Type_Main                      0\n",
       "opening_date_clean           250\n",
       "speed_mph                    150\n",
       "height_ft                    916\n",
       "Inversions_clean               0\n",
       "Gforce_clean                 725\n",
       "Length_ft                    135\n",
       "Height_restriction_in        258\n",
       "Cost_USD                     708\n",
       "Acceleration_clean          1032\n",
       "Max_vertical_angle           730\n",
       "Duration_seconds             333\n",
       "Capacity_riders_per_hour     512\n",
       "Drop_ft                      593\n",
       "dtype: int64"
      ]
     },
     "execution_count": 25,
     "metadata": {},
     "output_type": "execute_result"
    }
   ],
   "source": [
    "df.isna().sum()"
   ]
  },
  {
   "cell_type": "code",
   "execution_count": 26,
   "id": "f671edd8-2d0d-4a56-bcdd-c901cc6ace0e",
   "metadata": {},
   "outputs": [
    {
     "data": {
      "text/plain": [
       "(1087, 28)"
      ]
     },
     "execution_count": 26,
     "metadata": {},
     "output_type": "execute_result"
    }
   ],
   "source": [
    "df.shape"
   ]
  },
  {
   "cell_type": "code",
   "execution_count": 27,
   "id": "f3f366bd-e3c5-4b7f-b443-116a2e518be7",
   "metadata": {},
   "outputs": [
    {
     "data": {
      "text/plain": [
       "coaster_name                   0\n",
       "Location                       0\n",
       "Status                       203\n",
       "Manufacturer                   0\n",
       "Model                        290\n",
       "Lift/launch system           250\n",
       "Trains                       327\n",
       "Designer                     471\n",
       "Track layout                 706\n",
       "Restraint Style             1007\n",
       "Restraints                  1004\n",
       "year_introduced                0\n",
       "latitude                     268\n",
       "longitude                    268\n",
       "Type_Main                      0\n",
       "opening_date_clean           218\n",
       "speed_mph                    109\n",
       "height_ft                    860\n",
       "Inversions_clean               0\n",
       "Gforce_clean                 669\n",
       "Length_ft                     97\n",
       "Height_restriction_in        212\n",
       "Cost_USD                     656\n",
       "Acceleration_clean           973\n",
       "Max_vertical_angle           677\n",
       "Duration_seconds             292\n",
       "Capacity_riders_per_hour     457\n",
       "Drop_ft                      545\n",
       "dtype: int64"
      ]
     },
     "execution_count": 27,
     "metadata": {},
     "output_type": "execute_result"
    }
   ],
   "source": [
    "# Eliminate the manufacturer NAs as they are currently only about 5%\n",
    "df = df[df['Manufacturer'].notna()]\n",
    "df.isna().sum()"
   ]
  },
  {
   "cell_type": "code",
   "execution_count": 28,
   "id": "ac5b5025-d466-4d37-8bdc-03dd05221083",
   "metadata": {},
   "outputs": [
    {
     "data": {
      "text/plain": [
       "(1028, 28)"
      ]
     },
     "execution_count": 28,
     "metadata": {},
     "output_type": "execute_result"
    }
   ],
   "source": [
    "df.shape"
   ]
  },
  {
   "cell_type": "code",
   "execution_count": 29,
   "id": "485a8ac0-f98d-4834-93a1-af50341c3305",
   "metadata": {},
   "outputs": [],
   "source": [
    "# The quantitative variable NAs are numerous so we shall impute them with the medians\n",
    "# Heights, speeds, drop lengths, etc vary greatly so median will ensure outliers do not have as much affect as mean/avg\n",
    "num_cols = ['Drop_ft', 'Capacity_riders_per_hour', 'Duration_seconds', \n",
    "            'Max_vertical_angle', 'Acceleration_clean', 'Cost_USD', \n",
    "            'Height_restriction_in', 'Length_ft', 'Gforce_clean', \n",
    "            'height_ft', 'speed_mph', 'longitude', 'latitude']\n",
    "\n",
    "for col in num_cols:\n",
    "    if col in df.columns:\n",
    "        median_val = df[col].median(skipna=True)\n",
    "        df[col] = df[col].fillna(median_val)"
   ]
  },
  {
   "cell_type": "code",
   "execution_count": 30,
   "id": "62ef1cd0-e102-4709-b758-dc14da57ddf8",
   "metadata": {},
   "outputs": [
    {
     "data": {
      "text/plain": [
       "coaster_name                0\n",
       "Location                    0\n",
       "Status                      0\n",
       "Manufacturer                0\n",
       "Model                       0\n",
       "Lift/launch system          0\n",
       "Trains                      0\n",
       "Designer                    0\n",
       "year_introduced             0\n",
       "latitude                    0\n",
       "longitude                   0\n",
       "Type_Main                   0\n",
       "opening_date_clean          0\n",
       "speed_mph                   0\n",
       "height_ft                   0\n",
       "Inversions_clean            0\n",
       "Gforce_clean                0\n",
       "Length_ft                   0\n",
       "Height_restriction_in       0\n",
       "Cost_USD                    0\n",
       "Acceleration_clean          0\n",
       "Max_vertical_angle          0\n",
       "Duration_seconds            0\n",
       "Capacity_riders_per_hour    0\n",
       "Drop_ft                     0\n",
       "dtype: int64"
      ]
     },
     "execution_count": 30,
     "metadata": {},
     "output_type": "execute_result"
    }
   ],
   "source": [
    "drop_cols = ['Restraint Style', 'Restraints', 'Track layout']\n",
    "df.drop(columns=drop_cols, inplace=True)\n",
    "\n",
    "for col in ['Status', 'Model', 'Lift/launch system', 'Trains', 'Designer', 'opening_date_clean']:\n",
    "    df[col] = df[col].fillna('Unknown')\n",
    "    \n",
    "df.isna().sum()"
   ]
  },
  {
   "cell_type": "code",
   "execution_count": 31,
   "id": "efbd42e6-2843-49e5-a4ab-0dbdd630a6ad",
   "metadata": {},
   "outputs": [],
   "source": [
    "df = df.rename(columns={'Type_Main': 'track_type'})"
   ]
  },
  {
   "cell_type": "code",
   "execution_count": 32,
   "id": "7f0e44eb-b21f-4274-9821-c29bc7384b6f",
   "metadata": {},
   "outputs": [
    {
     "name": "stdout",
     "output_type": "stream",
     "text": [
      "<class 'pandas.core.frame.DataFrame'>\n",
      "Int64Index: 1028 entries, 0 to 1086\n",
      "Data columns (total 25 columns):\n",
      " #   Column                    Non-Null Count  Dtype  \n",
      "---  ------                    --------------  -----  \n",
      " 0   coaster_name              1028 non-null   object \n",
      " 1   Location                  1028 non-null   object \n",
      " 2   Status                    1028 non-null   object \n",
      " 3   Manufacturer              1028 non-null   object \n",
      " 4   Model                     1028 non-null   object \n",
      " 5   Lift/launch system        1028 non-null   object \n",
      " 6   Trains                    1028 non-null   object \n",
      " 7   Designer                  1028 non-null   object \n",
      " 8   year_introduced           1028 non-null   int64  \n",
      " 9   latitude                  1028 non-null   float64\n",
      " 10  longitude                 1028 non-null   float64\n",
      " 11  track_type                1028 non-null   object \n",
      " 12  opening_date_clean        1028 non-null   object \n",
      " 13  speed_mph                 1028 non-null   float64\n",
      " 14  height_ft                 1028 non-null   float64\n",
      " 15  Inversions_clean          1028 non-null   int64  \n",
      " 16  Gforce_clean              1028 non-null   float64\n",
      " 17  Length_ft                 1028 non-null   float64\n",
      " 18  Height_restriction_in     1028 non-null   float64\n",
      " 19  Cost_USD                  1028 non-null   float64\n",
      " 20  Acceleration_clean        1028 non-null   float64\n",
      " 21  Max_vertical_angle        1028 non-null   float64\n",
      " 22  Duration_seconds          1028 non-null   float64\n",
      " 23  Capacity_riders_per_hour  1028 non-null   Int64  \n",
      " 24  Drop_ft                   1028 non-null   float64\n",
      "dtypes: Int64(1), float64(12), int64(2), object(10)\n",
      "memory usage: 209.8+ KB\n"
     ]
    }
   ],
   "source": [
    "df.info()"
   ]
  },
  {
   "cell_type": "code",
   "execution_count": 33,
   "id": "ae48d2e8-0b6c-4b03-80e2-c5586a1c6144",
   "metadata": {},
   "outputs": [
    {
     "data": {
      "text/plain": [
       "(1028, 25)"
      ]
     },
     "execution_count": 33,
     "metadata": {},
     "output_type": "execute_result"
    }
   ],
   "source": [
    "df.shape"
   ]
  },
  {
   "cell_type": "code",
   "execution_count": 34,
   "id": "1d552a38-62bf-43aa-846a-61cd34ee5167",
   "metadata": {},
   "outputs": [],
   "source": [
    "# write to csv to use in other files\n",
    "df.to_csv('coaster_db_clean.csv')"
   ]
  },
  {
   "cell_type": "code",
   "execution_count": 35,
   "id": "ae6f91c1-f797-4e3d-b2de-52b5a13a4e64",
   "metadata": {},
   "outputs": [
    {
     "data": {
      "text/plain": [
       "array(['Wood', 'Steel', 'Other'], dtype=object)"
      ]
     },
     "execution_count": 35,
     "metadata": {},
     "output_type": "execute_result"
    }
   ],
   "source": [
    "# track material type will be our target for classification, so let's see its values\n",
    "df['track_type'].unique()"
   ]
  },
  {
   "cell_type": "code",
   "execution_count": 36,
   "id": "57b0f7b5-aa7c-4f75-a44f-b7df863cfce1",
   "metadata": {},
   "outputs": [
    {
     "data": {
      "text/plain": [
       "Steel    0.791829\n",
       "Wood     0.172179\n",
       "Other    0.035992\n",
       "Name: track_type, dtype: float64"
      ]
     },
     "execution_count": 36,
     "metadata": {},
     "output_type": "execute_result"
    }
   ],
   "source": [
    "df['track_type'].value_counts(normalize=True)"
   ]
  },
  {
   "cell_type": "code",
   "execution_count": 37,
   "id": "d6cd3da5-f216-4045-84d9-e65fd5cbb745",
   "metadata": {},
   "outputs": [
    {
     "data": {
      "image/png": "[encoded data removed]",
      "text/plain": [
       "<Figure size 432x288 with 1 Axes>"
      ]
     },
     "metadata": {
      "needs_background": "light"
     },
     "output_type": "display_data"
    },
    {
     "data": {
      "image/png": "[encoded data removed]",
      "text/plain": [
       "<Figure size 432x288 with 1 Axes>"
      ]
     },
     "metadata": {
      "needs_background": "light"
     },
     "output_type": "display_data"
    },
    {
     "data": {
      "image/png": "[encoded data removed]",
      "text/plain": [
       "<Figure size 432x288 with 1 Axes>"
      ]
     },
     "metadata": {
      "needs_background": "light"
     },
     "output_type": "display_data"
    },
    {
     "data": {
      "image/png": "[encoded data removed]",
      "text/plain": [
       "<Figure size 432x288 with 1 Axes>"
      ]
     },
     "metadata": {
      "needs_background": "light"
     },
     "output_type": "display_data"
    },
    {
     "data": {
      "image/png": "[encoded data removed]",
      "text/plain": [
       "<Figure size 432x288 with 1 Axes>"
      ]
     },
     "metadata": {
      "needs_background": "light"
     },
     "output_type": "display_data"
    },
    {
     "data": {
      "image/png": "[encoded data removed]",
      "text/plain": [
       "<Figure size 432x288 with 1 Axes>"
      ]
     },
     "metadata": {
      "needs_background": "light"
     },
     "output_type": "display_data"
    },
    {
     "data": {
      "image/png": "[encoded data removed]",
      "text/plain": [
       "<Figure size 432x288 with 1 Axes>"
      ]
     },
     "metadata": {
      "needs_background": "light"
     },
     "output_type": "display_data"
    },
    {
     "data": {
      "image/png": "[encoded data removed]",
      "text/plain": [
       "<Figure size 432x288 with 1 Axes>"
      ]
     },
     "metadata": {
      "needs_background": "light"
     },
     "output_type": "display_data"
    },
    {
     "data": {
      "image/png": "[encoded data removed]",
      "text/plain": [
       "<Figure size 432x288 with 1 Axes>"
      ]
     },
     "metadata": {
      "needs_background": "light"
     },
     "output_type": "display_data"
    },
    {
     "data": {
      "image/png": "[encoded data removed]",
      "text/plain": [
       "<Figure size 432x288 with 1 Axes>"
      ]
     },
     "metadata": {
      "needs_background": "light"
     },
     "output_type": "display_data"
    },
    {
     "data": {
      "image/png": "[encoded data removed]",
      "text/plain": [
       "<Figure size 432x288 with 1 Axes>"
      ]
     },
     "metadata": {
      "needs_background": "light"
     },
     "output_type": "display_data"
    },
    {
     "data": {
      "image/png": "[encoded data removed]",
      "text/plain": [
       "<Figure size 432x288 with 1 Axes>"
      ]
     },
     "metadata": {
      "needs_background": "light"
     },
     "output_type": "display_data"
    },
    {
     "data": {
      "image/png": "[encoded data removed]",
      "text/plain": [
       "<Figure size 432x288 with 1 Axes>"
      ]
     },
     "metadata": {
      "needs_background": "light"
     },
     "output_type": "display_data"
    }
   ],
   "source": [
    "for col in num_cols:\n",
    "    plt.figure(figsize=(6, 4))\n",
    "    sns.boxplot(x='track_type', y=col, data=df)\n",
    "    plt.title(f'{col} by Track Type')\n",
    "    plt.tight_layout()\n",
    "    plt.show()"
   ]
  },
  {
   "cell_type": "code",
   "execution_count": 38,
   "id": "0a8b222e-9e18-4492-b7b5-004b5f400345",
   "metadata": {},
   "outputs": [
    {
     "data": {
      "text/html": [
       "<div>\n",
       "<style scoped>\n",
       "    .dataframe tbody tr th:only-of-type {\n",
       "        vertical-align: middle;\n",
       "    }\n",
       "\n",
       "    .dataframe tbody tr th {\n",
       "        vertical-align: top;\n",
       "    }\n",
       "\n",
       "    .dataframe thead th {\n",
       "        text-align: right;\n",
       "    }\n",
       "</style>\n",
       "<table border=\"1\" class=\"dataframe\">\n",
       "  <thead>\n",
       "    <tr style=\"text-align: right;\">\n",
       "      <th></th>\n",
       "      <th>coaster_name</th>\n",
       "      <th>Location</th>\n",
       "      <th>Status</th>\n",
       "      <th>Manufacturer</th>\n",
       "      <th>Model</th>\n",
       "      <th>Lift/launch system</th>\n",
       "      <th>Trains</th>\n",
       "      <th>Designer</th>\n",
       "      <th>year_introduced</th>\n",
       "      <th>latitude</th>\n",
       "      <th>...</th>\n",
       "      <th>Gforce_clean</th>\n",
       "      <th>Length_ft</th>\n",
       "      <th>Height_restriction_in</th>\n",
       "      <th>Cost_USD</th>\n",
       "      <th>Acceleration_clean</th>\n",
       "      <th>Max_vertical_angle</th>\n",
       "      <th>Duration_seconds</th>\n",
       "      <th>Capacity_riders_per_hour</th>\n",
       "      <th>Drop_ft</th>\n",
       "      <th>target</th>\n",
       "    </tr>\n",
       "  </thead>\n",
       "  <tbody>\n",
       "    <tr>\n",
       "      <th>0</th>\n",
       "      <td>Switchback Railway</td>\n",
       "      <td>Coney Island</td>\n",
       "      <td>Removed</td>\n",
       "      <td>LaMarcus Adna Thompson</td>\n",
       "      <td>Lift Packed</td>\n",
       "      <td>gravity</td>\n",
       "      <td>Unknown</td>\n",
       "      <td>LaMarcus Adna Thompson</td>\n",
       "      <td>1884</td>\n",
       "      <td>40.5740</td>\n",
       "      <td>...</td>\n",
       "      <td>2.9</td>\n",
       "      <td>600.0</td>\n",
       "      <td>48.0</td>\n",
       "      <td>8540000.0</td>\n",
       "      <td>9.1</td>\n",
       "      <td>30.0</td>\n",
       "      <td>60.0</td>\n",
       "      <td>1600</td>\n",
       "      <td>43.0</td>\n",
       "      <td>2</td>\n",
       "    </tr>\n",
       "    <tr>\n",
       "      <th>1</th>\n",
       "      <td>Flip Flap Railway</td>\n",
       "      <td>Sea Lion Park</td>\n",
       "      <td>Removed</td>\n",
       "      <td>Lina Beecher</td>\n",
       "      <td>Unknown</td>\n",
       "      <td>Unknown</td>\n",
       "      <td>a single car. Riders are arranged 1 across in ...</td>\n",
       "      <td>Lina Beecher</td>\n",
       "      <td>1895</td>\n",
       "      <td>40.5780</td>\n",
       "      <td>...</td>\n",
       "      <td>12.0</td>\n",
       "      <td>2300.0</td>\n",
       "      <td>48.0</td>\n",
       "      <td>8540000.0</td>\n",
       "      <td>9.1</td>\n",
       "      <td>65.0</td>\n",
       "      <td>105.0</td>\n",
       "      <td>1080</td>\n",
       "      <td>92.0</td>\n",
       "      <td>2</td>\n",
       "    </tr>\n",
       "    <tr>\n",
       "      <th>3</th>\n",
       "      <td>Loop the Loop (Coney Island)</td>\n",
       "      <td>Other</td>\n",
       "      <td>Removed</td>\n",
       "      <td>Edwin Prescott</td>\n",
       "      <td>Unknown</td>\n",
       "      <td>Unknown</td>\n",
       "      <td>a single car. Riders are arranged 2 across in ...</td>\n",
       "      <td>Edward A. Green</td>\n",
       "      <td>1901</td>\n",
       "      <td>40.5745</td>\n",
       "      <td>...</td>\n",
       "      <td>4.0</td>\n",
       "      <td>2300.0</td>\n",
       "      <td>48.0</td>\n",
       "      <td>8540000.0</td>\n",
       "      <td>9.1</td>\n",
       "      <td>65.0</td>\n",
       "      <td>105.0</td>\n",
       "      <td>1080</td>\n",
       "      <td>92.0</td>\n",
       "      <td>1</td>\n",
       "    </tr>\n",
       "    <tr>\n",
       "      <th>4</th>\n",
       "      <td>Loop the Loop (Young's Pier)</td>\n",
       "      <td>Other</td>\n",
       "      <td>Removed</td>\n",
       "      <td>Edwin Prescott</td>\n",
       "      <td>Unknown</td>\n",
       "      <td>Unknown</td>\n",
       "      <td>Unknown</td>\n",
       "      <td>Edward A. Green</td>\n",
       "      <td>1901</td>\n",
       "      <td>39.3538</td>\n",
       "      <td>...</td>\n",
       "      <td>4.0</td>\n",
       "      <td>2300.0</td>\n",
       "      <td>48.0</td>\n",
       "      <td>8540000.0</td>\n",
       "      <td>9.1</td>\n",
       "      <td>65.0</td>\n",
       "      <td>105.0</td>\n",
       "      <td>1080</td>\n",
       "      <td>92.0</td>\n",
       "      <td>1</td>\n",
       "    </tr>\n",
       "    <tr>\n",
       "      <th>5</th>\n",
       "      <td>Cannon Coaster</td>\n",
       "      <td>Coney Island</td>\n",
       "      <td>Removed</td>\n",
       "      <td>George Francis Meyer</td>\n",
       "      <td>Unknown</td>\n",
       "      <td>Unknown</td>\n",
       "      <td>Unknown</td>\n",
       "      <td>Unknown</td>\n",
       "      <td>1902</td>\n",
       "      <td>40.5750</td>\n",
       "      <td>...</td>\n",
       "      <td>4.0</td>\n",
       "      <td>2300.0</td>\n",
       "      <td>48.0</td>\n",
       "      <td>8540000.0</td>\n",
       "      <td>9.1</td>\n",
       "      <td>65.0</td>\n",
       "      <td>105.0</td>\n",
       "      <td>1080</td>\n",
       "      <td>92.0</td>\n",
       "      <td>2</td>\n",
       "    </tr>\n",
       "  </tbody>\n",
       "</table>\n",
       "<p>5 rows × 25 columns</p>\n",
       "</div>"
      ],
      "text/plain": [
       "                   coaster_name       Location   Status  \\\n",
       "0            Switchback Railway   Coney Island  Removed   \n",
       "1             Flip Flap Railway  Sea Lion Park  Removed   \n",
       "3  Loop the Loop (Coney Island)          Other  Removed   \n",
       "4  Loop the Loop (Young's Pier)          Other  Removed   \n",
       "5                Cannon Coaster   Coney Island  Removed   \n",
       "\n",
       "             Manufacturer        Model Lift/launch system  \\\n",
       "0  LaMarcus Adna Thompson  Lift Packed            gravity   \n",
       "1            Lina Beecher      Unknown            Unknown   \n",
       "3          Edwin Prescott      Unknown            Unknown   \n",
       "4          Edwin Prescott      Unknown            Unknown   \n",
       "5    George Francis Meyer      Unknown            Unknown   \n",
       "\n",
       "                                              Trains                Designer  \\\n",
       "0                                            Unknown  LaMarcus Adna Thompson   \n",
       "1  a single car. Riders are arranged 1 across in ...            Lina Beecher   \n",
       "3  a single car. Riders are arranged 2 across in ...         Edward A. Green   \n",
       "4                                            Unknown         Edward A. Green   \n",
       "5                                            Unknown                 Unknown   \n",
       "\n",
       "   year_introduced  latitude  ...  Gforce_clean Length_ft  \\\n",
       "0             1884   40.5740  ...           2.9     600.0   \n",
       "1             1895   40.5780  ...          12.0    2300.0   \n",
       "3             1901   40.5745  ...           4.0    2300.0   \n",
       "4             1901   39.3538  ...           4.0    2300.0   \n",
       "5             1902   40.5750  ...           4.0    2300.0   \n",
       "\n",
       "   Height_restriction_in   Cost_USD  Acceleration_clean  Max_vertical_angle  \\\n",
       "0                   48.0  8540000.0                 9.1                30.0   \n",
       "1                   48.0  8540000.0                 9.1                65.0   \n",
       "3                   48.0  8540000.0                 9.1                65.0   \n",
       "4                   48.0  8540000.0                 9.1                65.0   \n",
       "5                   48.0  8540000.0                 9.1                65.0   \n",
       "\n",
       "   Duration_seconds  Capacity_riders_per_hour  Drop_ft  target  \n",
       "0              60.0                      1600     43.0       2  \n",
       "1             105.0                      1080     92.0       2  \n",
       "3             105.0                      1080     92.0       1  \n",
       "4             105.0                      1080     92.0       1  \n",
       "5             105.0                      1080     92.0       2  \n",
       "\n",
       "[5 rows x 25 columns]"
      ]
     },
     "execution_count": 38,
     "metadata": {},
     "output_type": "execute_result"
    }
   ],
   "source": [
    "# Encode track type as it is our target variable. Drop it afterward and check our data\n",
    "le = LabelEncoder()\n",
    "df['target'] = le.fit_transform(df['track_type'])\n",
    "df = df.drop(columns = ['track_type'])\n",
    "df.head()"
   ]
  },
  {
   "cell_type": "code",
   "execution_count": 39,
   "id": "2474cb0d-bf18-4467-82d4-e947980325df",
   "metadata": {},
   "outputs": [
    {
     "name": "stdout",
     "output_type": "stream",
     "text": [
      "['Other' 'Steel' 'Wood']\n"
     ]
    }
   ],
   "source": [
    "# Double check target classes\n",
    "print(le.classes_)"
   ]
  },
  {
   "cell_type": "code",
   "execution_count": 40,
   "id": "c4182955-62a9-4519-a621-efe1f123ba96",
   "metadata": {},
   "outputs": [
    {
     "data": {
      "image/png": "[encoded data removed]",
      "text/plain": [
       "<Figure size 1440x1080 with 16 Axes>"
      ]
     },
     "metadata": {
      "needs_background": "light"
     },
     "output_type": "display_data"
    }
   ],
   "source": [
    "# Histograms of quantitative variables so we know what we're working with\n",
    "df.hist(figsize = (20,15))\n",
    "plt.show()"
   ]
  },
  {
   "cell_type": "code",
   "execution_count": 41,
   "id": "9acf055e-9bd6-486d-9801-7365ed3eedf9",
   "metadata": {},
   "outputs": [
    {
     "data": {
      "image/png": "[encoded data removed]",
      "text/plain": [
       "<Figure size 432x288 with 1 Axes>"
      ]
     },
     "metadata": {
      "needs_background": "light"
     },
     "output_type": "display_data"
    },
    {
     "data": {
      "text/plain": [
       "1    814\n",
       "2    177\n",
       "0     37\n",
       "Name: target, dtype: int64"
      ]
     },
     "execution_count": 41,
     "metadata": {},
     "output_type": "execute_result"
    }
   ],
   "source": [
    "df['target'].hist()\n",
    "plt.title('Histogram of Coaster Track Type')\n",
    "plt.show()\n",
    "df['target'].value_counts()"
   ]
  },
  {
   "cell_type": "code",
   "execution_count": 42,
   "id": "0898ed5d-9f5b-4139-9645-9b2bf03e0a58",
   "metadata": {},
   "outputs": [
    {
     "data": {
      "image/png": "[encoded data removed]",
      "text/plain": [
       "<Figure size 1440x864 with 2 Axes>"
      ]
     },
     "metadata": {
      "needs_background": "light"
     },
     "output_type": "display_data"
    }
   ],
   "source": [
    "# Let's quickly visualize the coorrelations of our variables\n",
    "correlations = df[['Drop_ft', 'Capacity_riders_per_hour', 'Duration_seconds', \n",
    "            'Max_vertical_angle', 'Acceleration_clean', 'Cost_USD', \n",
    "            'Height_restriction_in', 'Length_ft', 'Gforce_clean', \n",
    "            'height_ft', 'speed_mph', 'longitude', 'latitude', 'target']].corr()\n",
    "columns = list(df[['Drop_ft', 'Capacity_riders_per_hour', 'Duration_seconds', \n",
    "            'Max_vertical_angle', 'Acceleration_clean', 'Cost_USD', \n",
    "            'Height_restriction_in', 'Length_ft', 'Gforce_clean', \n",
    "            'height_ft', 'speed_mph', 'longitude', 'latitude', 'target']])\n",
    "heatmap(correlations.values,columns,columns,figsize = (20,12),cmap=\"hsv\")"
   ]
  },
  {
   "cell_type": "code",
   "execution_count": 43,
   "id": "36b71d6c-ce2e-4a0e-9231-f55dc100d862",
   "metadata": {},
   "outputs": [
    {
     "data": {
      "text/plain": [
       "target                      1.000000\n",
       "Length_ft                   0.181416\n",
       "Height_restriction_in       0.055822\n",
       "latitude                    0.005795\n",
       "Acceleration_clean          0.003457\n",
       "Capacity_riders_per_hour    0.000822\n",
       "speed_mph                  -0.009728\n",
       "Gforce_clean               -0.016817\n",
       "Cost_USD                   -0.018966\n",
       "height_ft                  -0.044710\n",
       "longitude                  -0.063668\n",
       "Duration_seconds           -0.099969\n",
       "Drop_ft                    -0.123727\n",
       "Max_vertical_angle         -0.160436\n",
       "Name: target, dtype: float64"
      ]
     },
     "execution_count": 43,
     "metadata": {},
     "output_type": "execute_result"
    }
   ],
   "source": [
    "correlations['target'].sort_values(ascending=False)"
   ]
  },
  {
   "cell_type": "code",
   "execution_count": 44,
   "id": "554db2a5-7222-4c8c-8321-c8421d7d7994",
   "metadata": {},
   "outputs": [
    {
     "data": {
      "text/plain": [
       "1    0.791829\n",
       "2    0.172179\n",
       "0    0.035992\n",
       "Name: target, dtype: float64"
      ]
     },
     "execution_count": 44,
     "metadata": {},
     "output_type": "execute_result"
    }
   ],
   "source": [
    "df['target'].value_counts(normalize=True)"
   ]
  },
  {
   "cell_type": "code",
   "execution_count": 45,
   "id": "302156a9-b9fc-4c5d-aca6-cdf1238aeeb6",
   "metadata": {},
   "outputs": [],
   "source": [
    "y = df['target']\n",
    "x = df.drop(['target'],axis = 1)"
   ]
  },
  {
   "cell_type": "code",
   "execution_count": 46,
   "id": "98e0158e-90f9-4451-91f3-0edd7d1d677c",
   "metadata": {},
   "outputs": [],
   "source": [
    "train_raw, test_raw, target, target_test = train_test_split(x, y, test_size = 0.2, stratify = y, random_state=0)"
   ]
  },
  {
   "cell_type": "code",
   "execution_count": 47,
   "id": "2a15b7b2-24a7-4dca-96f8-45c403836cc6",
   "metadata": {},
   "outputs": [
    {
     "name": "stdout",
     "output_type": "stream",
     "text": [
      "Training shape: (822, 24)\n",
      "Testing shape: (206, 24)\n"
     ]
    }
   ],
   "source": [
    "print(\"Training shape:\", train_raw.shape)\n",
    "print(\"Testing shape:\", test_raw.shape)"
   ]
  },
  {
   "cell_type": "code",
   "execution_count": 48,
   "id": "e8aecefc-d8e1-4e4b-8b2e-2fe354710582",
   "metadata": {},
   "outputs": [
    {
     "name": "stdout",
     "output_type": "stream",
     "text": [
      "Training set class counts: [ 30 651 141]\n",
      "Testing set class counts: [  7 163  36]\n"
     ]
    }
   ],
   "source": [
    "print(\"Training set class counts:\", np.bincount(target))\n",
    "print(\"Testing set class counts:\", np.bincount(target_test))"
   ]
  },
  {
   "cell_type": "code",
   "execution_count": 49,
   "id": "e563f73e-ff31-41ad-90c9-e931abf0d95d",
   "metadata": {},
   "outputs": [
    {
     "name": "stdout",
     "output_type": "stream",
     "text": [
      "['num__Drop_ft' 'num__Capacity_riders_per_hour' 'num__Duration_seconds'\n",
      " ... 'cat__opening_date_clean_2022-01-01'\n",
      " 'cat__opening_date_clean_2022-02-01' 'cat__opening_date_clean_Unknown']\n"
     ]
    },
    {
     "name": "stderr",
     "output_type": "stream",
     "text": [
      "/Users/dha/opt/anaconda3/lib/python3.9/site-packages/sklearn/preprocessing/_encoders.py:241: UserWarning: Found unknown categories in columns [0, 1, 2, 3, 4, 5, 6, 7, 8] during transform. These unknown categories will be encoded as all zeros\n",
      "  warnings.warn(\n"
     ]
    }
   ],
   "source": [
    "# Seperate numerical and categorical variables\n",
    "num = ['Drop_ft', 'Capacity_riders_per_hour', 'Duration_seconds', \n",
    "            'Max_vertical_angle', 'Acceleration_clean', 'Cost_USD', \n",
    "            'Height_restriction_in', 'Length_ft', 'Gforce_clean', \n",
    "            'height_ft', 'speed_mph', 'longitude', 'latitude']\n",
    "cat = ['coaster_name', 'Location', 'Status', 'Manufacturer', 'Model', \n",
    "       'Lift/launch system', 'Trains', 'Designer', 'opening_date_clean']\n",
    "\n",
    "# Transform numerical with `StandardScaler()` and categorical with `OneHotEncoder()`\n",
    "preprocessor = ColumnTransformer([\n",
    "    ('num', StandardScaler(), num), \n",
    "    ('cat', OneHotEncoder(sparse_output = False, handle_unknown = 'ignore', categories = 'auto', drop = 'first'), cat)])\n",
    "\n",
    "# Create Pipeline. We will try KNN first\n",
    "pipeline = Pipeline([('preprocessor', preprocessor), ('knn', KNeighborsClassifier(n_neighbors=3))])\n",
    "\n",
    "# Create training and testing sets by transforming raw data through pipeline \n",
    "train = pipeline['preprocessor'].fit_transform(train_raw)\n",
    "test = pipeline['preprocessor'].transform(test_raw)\n",
    "\n",
    "pipeline['knn'].fit(train, target)\n",
    "\n",
    "feature_names = pipeline[:-1].get_feature_names_out()\n",
    "print(feature_names)"
   ]
  },
  {
   "cell_type": "code",
   "execution_count": 50,
   "id": "68fe96b8-b0b0-438f-a6ef-aad175f7715c",
   "metadata": {},
   "outputs": [
    {
     "name": "stdout",
     "output_type": "stream",
     "text": [
      "Accuracy: 0.8543689320388349\n",
      "n_neighbors = 1: Accuracy = 0.883495145631068\n",
      "n_neighbors = 2: Accuracy = 0.8446601941747572\n",
      "n_neighbors = 3: Accuracy = 0.8543689320388349\n",
      "n_neighbors = 5: Accuracy = 0.8689320388349514\n",
      "n_neighbors = 7: Accuracy = 0.8689320388349514\n",
      "n_neighbors = 9: Accuracy = 0.883495145631068\n",
      "n_neighbors = 10: Accuracy = 0.8640776699029126\n",
      "n_neighbors = 20: Accuracy = 0.883495145631068\n",
      "n_neighbors = 50: Accuracy = 0.8786407766990292\n"
     ]
    }
   ],
   "source": [
    "# K-Nearest Neighbors\n",
    "predicted = pipeline['knn'].predict(test)\n",
    "\n",
    "accuracy = accuracy_score(target_test, predicted)\n",
    "\n",
    "print(\"Accuracy:\", accuracy)\n",
    "\n",
    "n_values = [1, 2, 3, 5, 7, 9, 10, 20, 50]\n",
    "accuracies = []\n",
    "\n",
    "for n in n_values:\n",
    "    knn = KNeighborsClassifier(n_neighbors=n)\n",
    "    knn.fit(train, target)\n",
    "    \n",
    "    predicted = knn.predict(test)\n",
    "    \n",
    "    accuracy = accuracy_score(target_test, predicted)\n",
    "    accuracies.append(accuracy)\n",
    "\n",
    "for n, accuracy in zip(n_values, accuracies):\n",
    "    print(f\"n_neighbors = {n}: Accuracy = {accuracy}\")"
   ]
  },
  {
   "cell_type": "code",
   "execution_count": 51,
   "id": "65271440-860c-4272-96fb-147bc8db2c5f",
   "metadata": {},
   "outputs": [
    {
     "name": "stdout",
     "output_type": "stream",
     "text": [
      "Random Forest Accuracy: 0.917\n",
      "Random Forest F1 Score: 0.910\n",
      "\n",
      "Classification Report:\n",
      "               precision    recall  f1-score   support\n",
      "\n",
      "           0       0.75      0.43      0.55         7\n",
      "           1       0.92      0.99      0.95       163\n",
      "           2       0.96      0.67      0.79        36\n",
      "\n",
      "    accuracy                           0.92       206\n",
      "   macro avg       0.88      0.70      0.76       206\n",
      "weighted avg       0.92      0.92      0.91       206\n",
      "\n"
     ]
    },
    {
     "name": "stderr",
     "output_type": "stream",
     "text": [
      "/Users/dha/opt/anaconda3/lib/python3.9/site-packages/sklearn/preprocessing/_encoders.py:241: UserWarning: Found unknown categories in columns [0, 1, 2, 3, 4, 5, 6, 7, 8] during transform. These unknown categories will be encoded as all zeros\n",
      "  warnings.warn(\n"
     ]
    }
   ],
   "source": [
    "# Random Forest pipeline\n",
    "rf_pipeline = Pipeline([\n",
    "    ('preprocessor', preprocessor),\n",
    "    ('rf', RandomForestClassifier(\n",
    "        n_estimators=200, # number of trees\n",
    "        max_depth=None, # let trees expand fully unless tuned\n",
    "        random_state=42\n",
    "    ))\n",
    "])\n",
    "\n",
    "# Fit the model\n",
    "rf_pipeline.fit(train_raw, target)\n",
    "\n",
    "# Make predictions\n",
    "rf_preds = rf_pipeline.predict(test_raw)\n",
    "\n",
    "# Accuracy\n",
    "acc = accuracy_score(target_test, rf_preds)\n",
    "\n",
    "# F1 score (use 'weighted' for multiclass)\n",
    "f1 = f1_score(target_test, rf_preds, average='weighted')\n",
    "\n",
    "print(f\"Random Forest Accuracy: {acc:.3f}\")\n",
    "print(f\"Random Forest F1 Score: {f1:.3f}\")\n",
    "\n",
    "# Detailed breakdown\n",
    "print(\"\\nClassification Report:\\n\", classification_report(target_test, rf_preds))"
   ]
  },
  {
   "cell_type": "code",
   "execution_count": 52,
   "id": "7a78462a-46b4-4161-89c1-403d3b36ac63",
   "metadata": {},
   "outputs": [
    {
     "name": "stdout",
     "output_type": "stream",
     "text": [
      "Random Forest Accuracy: 0.908\n",
      "Random Forest F1 Score: 0.903\n",
      "\n",
      "Classification Report:\n",
      "               precision    recall  f1-score   support\n",
      "\n",
      "           0       0.75      0.43      0.55         7\n",
      "           1       0.93      0.97      0.95       163\n",
      "           2       0.79      0.72      0.75        36\n",
      "\n",
      "    accuracy                           0.91       206\n",
      "   macro avg       0.82      0.71      0.75       206\n",
      "weighted avg       0.90      0.91      0.90       206\n",
      "\n"
     ]
    },
    {
     "name": "stderr",
     "output_type": "stream",
     "text": [
      "/Users/dha/opt/anaconda3/lib/python3.9/site-packages/sklearn/preprocessing/_encoders.py:241: UserWarning: Found unknown categories in columns [0, 1, 2, 3, 4, 5, 6, 7, 8] during transform. These unknown categories will be encoded as all zeros\n",
      "  warnings.warn(\n"
     ]
    }
   ],
   "source": [
    "# XGBoost pipeline\n",
    "xgb_pipeline = Pipeline([\n",
    "    ('preprocessor', preprocessor),\n",
    "    ('xgb', XGBClassifier(\n",
    "        n_estimators=300,\n",
    "        learning_rate=0.05,\n",
    "        max_depth=5,\n",
    "        subsample=0.8,\n",
    "        colsample_bytree=0.8,\n",
    "        random_state=42,\n",
    "        use_label_encoder=False,\n",
    "        eval_metric='mlogloss'\n",
    "    ))\n",
    "])\n",
    "\n",
    "# Fit the model\n",
    "xgb_pipeline.fit(train_raw, target)\n",
    "\n",
    "# Predict\n",
    "xgb_preds = xgb_pipeline.predict(test_raw)\n",
    "\n",
    "# Accuracy\n",
    "acc = accuracy_score(target_test, xgb_preds)\n",
    "\n",
    "# F1 score (use 'weighted' for multiclass)\n",
    "f1 = f1_score(target_test, xgb_preds, average='weighted')\n",
    "\n",
    "print(f\"Random Forest Accuracy: {acc:.3f}\")\n",
    "print(f\"Random Forest F1 Score: {f1:.3f}\")\n",
    "\n",
    "# Detailed breakdown\n",
    "print(\"\\nClassification Report:\\n\", classification_report(target_test, xgb_preds))"
   ]
  },
  {
   "cell_type": "code",
   "execution_count": 52,
   "id": "e6bea0c6-3773-4185-b5c4-ffbffc828e2e",
   "metadata": {},
   "outputs": [
    {
     "name": "stdout",
     "output_type": "stream",
     "text": [
      "Accuracy:    0.902913\n",
      "Number of support vectors: [ 30 310 128]\n"
     ]
    }
   ],
   "source": [
    "# Support Vector Machines\n",
    "svm = SVC()\n",
    "svm.fit(train, target)\n",
    "predicted = svm.predict(test)\n",
    "print(\"%-12s %f\" % ('Accuracy:', metrics.accuracy_score(target_test,predicted)))\n",
    "print(\"Number of support vectors:\", svm.n_support_)"
   ]
  },
  {
   "cell_type": "code",
   "execution_count": 53,
   "id": "83d6a91c-565d-4943-a906-bd5a46e7c7a8",
   "metadata": {},
   "outputs": [
    {
     "name": "stdout",
     "output_type": "stream",
     "text": [
      "Accuracy:    0.932039\n",
      "Number of support vectors: [ 28 277 109]\n"
     ]
    }
   ],
   "source": [
    "svm = SVC(kernel = 'linear')\n",
    "svm.fit(train, target)\n",
    "predicted = svm.predict(test)\n",
    "print(\"%-12s %f\" % ('Accuracy:', metrics.accuracy_score(target_test,predicted)))\n",
    "print(\"Number of support vectors:\", svm.n_support_)"
   ]
  },
  {
   "cell_type": "code",
   "execution_count": 54,
   "id": "b147eb33-d2d4-4e2d-8281-91e7bd1d4116",
   "metadata": {},
   "outputs": [
    {
     "name": "stdout",
     "output_type": "stream",
     "text": [
      "Accuracy:    0.830097\n",
      "Number of support vectors: [ 30 590 141]\n"
     ]
    }
   ],
   "source": [
    "# Support Vector Machines\n",
    "svm_pipeline = Pipeline(steps=[\n",
    "    ('scaler', StandardScaler()),  # Step 1: Scale the features\n",
    "    ('svm', SVC(random_state=42))  # Step 2: Apply the Support Vector Classifier\n",
    "])\n",
    "svm_pipeline.fit(train, target)\n",
    "predicted = svm_pipeline.predict(test)\n",
    "svm_model = svm_pipeline.named_steps['svm']\n",
    "print(\"%-12s %f\" % ('Accuracy:', metrics.accuracy_score(target_test,predicted)))\n",
    "print(\"Number of support vectors:\", svm_model.n_support_)"
   ]
  },
  {
   "cell_type": "code",
   "execution_count": 55,
   "id": "3d430d3b-27de-4222-9d27-2155dd5bb2a0",
   "metadata": {},
   "outputs": [
    {
     "name": "stdout",
     "output_type": "stream",
     "text": [
      "Accuracy:    0.917476\n",
      "Number of support vectors: [ 29 583 139]\n"
     ]
    }
   ],
   "source": [
    "svm_pipeline = Pipeline(steps=[\n",
    "    ('scaler', StandardScaler()),  # Step 1: Scale the features\n",
    "    ('svm', SVC(random_state=42, kernel = 'linear'))  # Step 2: Apply the Support Vector Classifier\n",
    "])\n",
    "svm_pipeline.fit(train, target)\n",
    "predicted = svm_pipeline.predict(test)\n",
    "svm_model = svm_pipeline.named_steps['svm']\n",
    "print(\"%-12s %f\" % ('Accuracy:', metrics.accuracy_score(target_test,predicted)))\n",
    "print(\"Number of support vectors:\", svm_model.n_support_)"
   ]
  },
  {
   "cell_type": "code",
   "execution_count": 57,
   "id": "1b4674d5-1739-41c1-b5fa-f86484e5d081",
   "metadata": {},
   "outputs": [
    {
     "name": "stdout",
     "output_type": "stream",
     "text": [
      "Accuracy:    0.907767\n"
     ]
    },
    {
     "data": {
      "image/png": "[encoded data removed]",
      "text/plain": [
       "<Figure size 432x288 with 2 Axes>"
      ]
     },
     "metadata": {
      "needs_background": "light"
     },
     "output_type": "display_data"
    }
   ],
   "source": [
    "# Decision Tree\n",
    "clf = DecisionTreeClassifier(criterion=\"gini\", random_state = 0)\n",
    "clf.fit(train, target)\n",
    "predicted = clf.predict(test)\n",
    "print(\"%-12s %f\" % ('Accuracy:', metrics.accuracy_score(target_test,predicted)))\n",
    "draw_confusion_matrix(target_test, predicted, classes = ['Wood', 'Steel', 'Other'])"
   ]
  },
  {
   "cell_type": "code",
   "execution_count": 58,
   "id": "e31ebf84-313c-4cb8-a940-8aa7364b5988",
   "metadata": {},
   "outputs": [
    {
     "data": {
      "text/plain": [
       "[Text(0.5, 0.8333333333333334, 'cat__Model_Unknown <= 0.5\\ngini = 0.342\\nsamples = 100.0%\\nvalue = [0.036, 0.792, 0.172]'),\n",
       " Text(0.25, 0.5, 'cat__Manufacturer_Philadelphia Toboggan Coasters <= 0.5\\ngini = 0.146\\nsamples = 71.7%\\nvalue = [0.02, 0.922, 0.058]'),\n",
       " Text(0.125, 0.16666666666666666, '\\n  (...)  \\n'),\n",
       " Text(0.375, 0.16666666666666666, '\\n  (...)  \\n'),\n",
       " Text(0.75, 0.5, 'num__Length_ft <= -0.056\\ngini = 0.568\\nsamples = 28.3%\\nvalue = [0.077, 0.464, 0.459]'),\n",
       " Text(0.625, 0.16666666666666666, '\\n  (...)  \\n'),\n",
       " Text(0.875, 0.16666666666666666, '\\n  (...)  \\n')]"
      ]
     },
     "execution_count": 58,
     "metadata": {},
     "output_type": "execute_result"
    },
    {
     "data": {
      "image/png": "[encoded data removed]",
      "text/plain": [
       "<Figure size 3600x1800 with 1 Axes>"
      ]
     },
     "metadata": {
      "needs_background": "light"
     },
     "output_type": "display_data"
    }
   ],
   "source": [
    "# Visualize some layers of the decision tree\n",
    "plt.figure(figsize = (50,25)) \n",
    "sklearn.tree.plot_tree(clf,max_depth=1, proportion=True,feature_names=feature_names, filled=True)"
   ]
  },
  {
   "cell_type": "code",
   "execution_count": 59,
   "id": "17665172-ea4f-4782-b06f-e6e71913d74f",
   "metadata": {},
   "outputs": [
    {
     "name": "stdout",
     "output_type": "stream",
     "text": [
      "Best parameters: {'criterion': 'gini', 'max_depth': 15, 'min_samples_split': 2}\n",
      "Best score: 0.9075425790754258\n"
     ]
    }
   ],
   "source": [
    "# Use grid search to find the best parameters of decision tree and its accuracy\n",
    "param_grid = {\n",
    "    'max_depth': [1, 2, 3, 4, 5, 10, 15],\n",
    "    'min_samples_split': [2, 4, 6, 8],\n",
    "    'criterion': ['gini', 'entropy']\n",
    "}\n",
    "\n",
    "grid_search = GridSearchCV(estimator=clf, param_grid=param_grid, cv=3)\n",
    "\n",
    "grid_search.fit(train, target)\n",
    "\n",
    "\n",
    "print(\"Best parameters:\", grid_search.best_params_)\n",
    "print(\"Best score:\", grid_search.best_score_)"
   ]
  },
  {
   "cell_type": "code",
   "execution_count": 55,
   "id": "144d7106-2d8d-47db-a76e-7ed06b91724c",
   "metadata": {},
   "outputs": [
    {
     "name": "stdout",
     "output_type": "stream",
     "text": [
      "Train Accuracy: 0.9174757281553398\n"
     ]
    },
    {
     "data": {
      "image/png": "[encoded data removed]",
      "text/plain": [
       "<Figure size 432x288 with 2 Axes>"
      ]
     },
     "metadata": {
      "needs_background": "light"
     },
     "output_type": "display_data"
    }
   ],
   "source": [
    "# Multi-Layer Perceptron\n",
    "mlp_classifier = MLPClassifier(hidden_layer_sizes=(100, 100), max_iter=800, random_state=0)\n",
    "mlp_classifier.fit(train, target)\n",
    "y_train_pred = mlp_classifier.predict(test)\n",
    "train_accuracy = accuracy_score(target_test, y_train_pred)\n",
    "print(\"Train Accuracy:\", train_accuracy)\n",
    "\n",
    "draw_confusion_matrix(target_test, predicted, classes = ['Wood', 'Steel', 'Other'])"
   ]
  },
  {
   "cell_type": "code",
   "execution_count": 56,
   "id": "11cad4bf-7166-467c-b08d-86c741c3501b",
   "metadata": {},
   "outputs": [
    {
     "name": "stdout",
     "output_type": "stream",
     "text": [
      "F1: [0.28571429 0.91515152 0.67647059]\n",
      "n_neighbors = 1: F1's = [0.35294118 0.93457944 0.78378378]\n",
      "n_neighbors = 2: F1's = [0.3        0.90634441 0.68852459]\n",
      "n_neighbors = 3: F1's = [0.28571429 0.91515152 0.67647059]\n",
      "n_neighbors = 5: F1's = [0.22222222 0.92581602 0.66666667]\n",
      "n_neighbors = 7: F1's = [0.2        0.92814371 0.67647059]\n",
      "n_neighbors = 9: F1's = [0.18181818 0.93693694 0.73529412]\n",
      "n_neighbors = 10: F1's = [0.14285714 0.92492492 0.70769231]\n",
      "n_neighbors = 20: F1's = [0.22222222 0.9380531  0.6875    ]\n",
      "n_neighbors = 50: F1's = [0.         0.93294461 0.67741935]\n"
     ]
    }
   ],
   "source": [
    "# K-Nearest Neighbors\n",
    "predicted = pipeline['knn'].predict(test)\n",
    "\n",
    "f1 = f1_score(target_test, predicted, average = None)\n",
    "\n",
    "print(\"F1:\", f1)\n",
    "\n",
    "n_values = [1, 2, 3, 5, 7, 9, 10, 20, 50]\n",
    "f1s = []\n",
    "\n",
    "for n in n_values:\n",
    "    knn = KNeighborsClassifier(n_neighbors=n)\n",
    "    knn.fit(train, target)\n",
    "    \n",
    "    predicted = knn.predict(test)\n",
    "    \n",
    "    f1 = f1_score(target_test, predicted, average = None)\n",
    "    f1s.append(f1)\n",
    "\n",
    "for n, f1 in zip(n_values, f1s):\n",
    "    print(f\"n_neighbors = {n}: F1's = {f1}\")"
   ]
  },
  {
   "cell_type": "code",
   "execution_count": 57,
   "id": "520679d0-f83c-4316-b016-e3c7c5b93200",
   "metadata": {},
   "outputs": [
    {
     "name": "stdout",
     "output_type": "stream",
     "text": [
      "F1:          0.897130\n",
      "Number of support vectors: [ 30 310 128]\n"
     ]
    }
   ],
   "source": [
    "# Support Vector Machines\n",
    "svm = SVC()\n",
    "svm.fit(train, target)\n",
    "predicted = svm.predict(test)\n",
    "print(\"%-12s %f\" % ('F1:', metrics.f1_score(target_test, predicted, average = 'weighted')))\n",
    "print(\"Number of support vectors:\", svm.n_support_)"
   ]
  },
  {
   "cell_type": "code",
   "execution_count": 58,
   "id": "27168116-f544-45e7-9529-2d05f2103fa8",
   "metadata": {},
   "outputs": [
    {
     "name": "stdout",
     "output_type": "stream",
     "text": [
      "F1:          0.904380\n"
     ]
    },
    {
     "data": {
      "image/png": "[encoded data removed]",
      "text/plain": [
       "<Figure size 432x288 with 2 Axes>"
      ]
     },
     "metadata": {
      "needs_background": "light"
     },
     "output_type": "display_data"
    }
   ],
   "source": [
    "# Decision Tree\n",
    "clf = DecisionTreeClassifier(criterion=\"gini\", random_state = 0)\n",
    "clf.fit(train, target)\n",
    "predicted = clf.predict(test)\n",
    "print(\"%-12s %f\" % ('F1:', metrics.f1_score(target_test, predicted, average = 'weighted')))\n",
    "draw_confusion_matrix(target_test, predicted, classes = ['Wood', 'Steel', 'Other'])"
   ]
  },
  {
   "cell_type": "code",
   "execution_count": 59,
   "id": "eaa42d5c-24b7-4a7f-9408-984ca99b9dc6",
   "metadata": {},
   "outputs": [
    {
     "name": "stdout",
     "output_type": "stream",
     "text": [
      "F1: [0.5        0.95412844 0.82191781]\n"
     ]
    },
    {
     "data": {
      "image/png": "[encoded data removed]",
      "text/plain": [
       "<Figure size 432x288 with 2 Axes>"
      ]
     },
     "metadata": {
      "needs_background": "light"
     },
     "output_type": "display_data"
    }
   ],
   "source": [
    "# Multi-Layer Perceptron\n",
    "mlp_classifier = MLPClassifier(hidden_layer_sizes=(100, 100), max_iter=800, random_state=0)\n",
    "mlp_classifier.fit(train, target)\n",
    "y_train_pred = mlp_classifier.predict(test)\n",
    "train_f1 = f1_score(target_test, y_train_pred, average = None)\n",
    "print(\"F1:\", train_f1)\n",
    "\n",
    "draw_confusion_matrix(target_test, predicted, classes = ['Wood', 'Steel', 'Other'])"
   ]
  },
  {
   "cell_type": "code",
   "execution_count": 60,
   "id": "63a503db-df3a-429c-a715-8a3b81182cf6",
   "metadata": {},
   "outputs": [
    {
     "name": "stdout",
     "output_type": "stream",
     "text": [
      "F1: 0.9155921207558589\n"
     ]
    },
    {
     "data": {
      "image/png": "[encoded data removed]",
      "text/plain": [
       "<Figure size 432x288 with 2 Axes>"
      ]
     },
     "metadata": {
      "needs_background": "light"
     },
     "output_type": "display_data"
    }
   ],
   "source": [
    "mlp_classifier = MLPClassifier(hidden_layer_sizes=(100, 100), max_iter=800, random_state=0)\n",
    "mlp_classifier.fit(train, target)\n",
    "y_train_pred = mlp_classifier.predict(test)\n",
    "train_f1 = f1_score(target_test, y_train_pred, average = 'weighted')\n",
    "print(\"F1:\", train_f1)\n",
    "\n",
    "draw_confusion_matrix(target_test, predicted, classes = ['Wood', 'Steel', 'Other'])"
   ]
  },
  {
   "cell_type": "code",
   "execution_count": null,
   "id": "defbc175-4675-443a-8190-e3b3690e0d02",
   "metadata": {},
   "outputs": [],
   "source": []
  }
 ],
 "metadata": {
  "kernelspec": {
   "display_name": "Python 3 (ipykernel)",
   "language": "python",
   "name": "python3"
  },
  "language_info": {
   "codemirror_mode": {
    "name": "ipython",
    "version": 3
   },
   "file_extension": ".py",
   "mimetype": "text/x-python",
   "name": "python",
   "nbconvert_exporter": "python",
   "pygments_lexer": "ipython3",
   "version": "3.9.7"
  },
  "vscode": {
   "interpreter": {
    "hash": "31f2aee4e71d21fbe5cf8b01ff0e069b9275f58929596ceb00d14d90e3e16cd6"
   }
  }
 },
 "nbformat": 4,
 "nbformat_minor": 5
}
